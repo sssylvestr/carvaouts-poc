{
 "cells": [
  {
   "cell_type": "code",
   "execution_count": null,
   "id": "ed769602",
   "metadata": {},
   "outputs": [],
   "source": [
    "import requests\n",
    "from factiva_api.news.taxonomy import Taxonomy"
   ]
  },
  {
   "cell_type": "markdown",
   "id": "3700058d",
   "metadata": {},
   "source": [
    "### Checking the account"
   ]
  },
  {
   "cell_type": "code",
   "execution_count": 2,
   "id": "26482de4",
   "metadata": {},
   "outputs": [
    {
     "data": {
      "text/plain": [
       "{'cnt_curr_ext': 0,\n",
       " 'current_downloaded_amount': None,\n",
       " 'max_allowed_concurrent_extracts': 1,\n",
       " 'max_allowed_document_extracts': 2500000,\n",
       " 'max_allowed_extracts': 5,\n",
       " 'name': 'NORDIC-342984',\n",
       " 'products': 'DNA',\n",
       " 'tot_document_extracts': 46680,\n",
       " 'tot_extracts': 2,\n",
       " 'tot_subscriptions': 0,\n",
       " 'tot_topics': 0,\n",
       " 'licensed_company_ids': [5],\n",
       " 'enabled_company_identifiers': [{'id': 5, 'name': 'ticker_exchange'}]}"
      ]
     },
     "execution_count": 2,
     "metadata": {},
     "output_type": "execute_result"
    }
   ],
   "source": [
    "user_key = 'LKbI9fY6ZEPU8RcJUxQHjwKbld52WGt0'\n",
    "accounts_url = \"https://api.dowjones.com/alpha/accounts/{}\".format(user_key)\n",
    "headers = {\n",
    "    \"Content-Type\": \"application/json\",\n",
    "    \"user-key\": user_key\n",
    "}\n",
    "\n",
    "accounts_response = requests.get(accounts_url, headers=headers)\n",
    "accounts_response.json()['data']['attributes']\n"
   ]
  },
  {
   "cell_type": "code",
   "execution_count": null,
   "id": "c0d412e4",
   "metadata": {},
   "outputs": [
    {
     "data": {
      "text/plain": [
       "['companies',\n",
       " 'executives',\n",
       " 'hierarchyIndustry',\n",
       " 'hierarchyRegion',\n",
       " 'hierarchySubject',\n",
       " 'industries',\n",
       " 'news_subjects',\n",
       " 'regions']"
      ]
     },
     "execution_count": 26,
     "metadata": {},
     "output_type": "execute_result"
    }
   ],
   "source": [
    "taxonomy = Taxonomy(user_key=\"LKbI9fY6ZEPU8RcJUxQHjwKbld52WGt0\")\n",
    "taxonomy.categories\n"
   ]
  },
  {
   "cell_type": "code",
   "execution_count": null,
   "id": "78434d38",
   "metadata": {},
   "outputs": [
    {
     "data": {
      "application/vnd.microsoft.datawrangler.viewer.v0+json": {
       "columns": [
        {
         "name": "code",
         "rawType": "object",
         "type": "string"
        },
        {
         "name": "Descriptor",
         "rawType": "object",
         "type": "string"
        },
        {
         "name": "Description",
         "rawType": "object",
         "type": "string"
        },
        {
         "name": "direct_parents_1",
         "rawType": "object",
         "type": "unknown"
        },
        {
         "name": "direct_parents_2",
         "rawType": "object",
         "type": "unknown"
        },
        {
         "name": "direct_parents_3",
         "rawType": "object",
         "type": "unknown"
        },
        {
         "name": "direct_parents_4",
         "rawType": "float64",
         "type": "float"
        },
        {
         "name": "direct_parents_5",
         "rawType": "float64",
         "type": "float"
        },
        {
         "name": "direct_parents_6",
         "rawType": "float64",
         "type": "float"
        },
        {
         "name": "indirect_parents_1",
         "rawType": "object",
         "type": "unknown"
        },
        {
         "name": "indirect_parents_2",
         "rawType": "object",
         "type": "unknown"
        },
        {
         "name": "indirect_parents_3",
         "rawType": "object",
         "type": "unknown"
        },
        {
         "name": "indirect_parents_4",
         "rawType": "object",
         "type": "unknown"
        },
        {
         "name": "indirect_parents_5",
         "rawType": "object",
         "type": "unknown"
        },
        {
         "name": "indirect_parents_6",
         "rawType": "object",
         "type": "unknown"
        },
        {
         "name": "indirect_parents_7",
         "rawType": "object",
         "type": "unknown"
        },
        {
         "name": "indirect_parents_8",
         "rawType": "float64",
         "type": "float"
        }
       ],
       "conversionMethod": "pd.DataFrame",
       "ref": "7ae7f159-5ccd-4271-8127-77e64a885b63",
       "rows": [
        [
         "i0",
         "Agriculture",
         "All farming, forestry, commercial fishing, hunting and trapping.",
         null,
         null,
         null,
         null,
         null,
         null,
         null,
         null,
         null,
         null,
         null,
         null,
         null,
         null
        ],
        [
         "i01001",
         "Farming",
         "Agricultural crop production, seed supply and the raising of livestock.",
         "i0",
         null,
         null,
         null,
         null,
         null,
         null,
         null,
         null,
         null,
         null,
         null,
         null,
         null
        ],
        [
         "i03001",
         "Aquaculture",
         "The farming of aquatic animals and plants such as fish, shellfish, crustaceans and seaweed.",
         "i01001",
         null,
         null,
         null,
         null,
         null,
         "i0",
         null,
         null,
         null,
         null,
         null,
         null,
         null
        ],
        [
         "i0100144",
         "Cocoa Growing",
         "Growing cocoa beans.",
         "i01001",
         null,
         null,
         null,
         null,
         null,
         "i0",
         null,
         null,
         null,
         null,
         null,
         null,
         null
        ],
        [
         "i0100137",
         "Coffee Growing",
         "Growing coffee beans.",
         "i01001",
         null,
         null,
         null,
         null,
         null,
         "i0",
         null,
         null,
         null,
         null,
         null,
         null,
         null
        ],
        [
         "i0100138",
         "Cotton/Silk Farming",
         "Growing cotton, producing cottonseed and the production of silk from silk worm cocoons.",
         "i01001",
         null,
         null,
         null,
         null,
         null,
         "i0",
         null,
         null,
         null,
         null,
         null,
         null,
         null
        ],
        [
         "i01002",
         "Horticulture",
         "Growing horticultural crops such as fruit, vegetables and flowers.",
         "i01001",
         null,
         null,
         null,
         null,
         null,
         "i0",
         null,
         null,
         null,
         null,
         null,
         null,
         null
        ],
        [
         "i0100201",
         "Floriculture/Plant Nurseries",
         "Growing nursery and floriculture products (e.g. nursery stock, shrubbery, cut flowers, foliage plants) under cover or in open fields.",
         "i01002",
         null,
         null,
         null,
         null,
         null,
         "i01001",
         "i0",
         null,
         null,
         null,
         null,
         null,
         null
        ],
        [
         "i0100206",
         "Fruit Growing",
         "Growing, cultivating and harvesting of fruit and tree nut crops.",
         "i01002",
         null,
         null,
         null,
         null,
         null,
         "i01001",
         "i0",
         null,
         null,
         null,
         null,
         null,
         null
        ],
        [
         "i010020602",
         "Citrus Groves",
         "Growing citrus fruits including oranges, lemon, lime, grapefruit and tangerines.",
         "i0100206",
         null,
         null,
         null,
         null,
         null,
         "i01002",
         "i01001",
         "i0",
         null,
         null,
         null,
         null,
         null
        ],
        [
         "i010020603",
         "Tree Nut Farming",
         "Growing, cultivating and harvesting of tree nut crops.",
         "i0100206",
         null,
         null,
         null,
         null,
         null,
         "i01002",
         "i01001",
         "i0",
         null,
         null,
         null,
         null,
         null
        ],
        [
         "imarij",
         "Marijuana Growing/Cultivation",
         "Cultivating and farming cannabis legally. Includes marijuana nurseries.",
         "i01002",
         null,
         null,
         null,
         null,
         null,
         "i01001",
         "i0",
         null,
         null,
         null,
         null,
         null,
         null
        ],
        [
         "i0100216",
         "Vegetable Growing",
         "Growing root and tuber crops (except sugar beets and peanuts) or edible plants and/or producing root and tuber or edible plant seeds.",
         "i01002",
         null,
         null,
         null,
         null,
         null,
         "i01001",
         "i0",
         null,
         null,
         null,
         null,
         null,
         null
        ],
        [
         "ilsfarm",
         "Livestock Farming",
         "Raising animals for the production of food, wool, hide, fur or for the purpose of selling. Includes poultry farming, bee farming and horse farming.",
         "i01001",
         null,
         null,
         null,
         null,
         null,
         "i0",
         null,
         null,
         null,
         null,
         null,
         null,
         null
        ],
        [
         "ibees",
         "Beekeeping/Honey Production",
         "The maintenance of bee colonies on a commercial level for the production of honey and other bee-produced products such as beeswax, propolis, bee pollen or royal jelly. Includes pollination services.",
         "ilsfarm",
         null,
         null,
         null,
         null,
         null,
         "i01001",
         "i0",
         null,
         null,
         null,
         null,
         null,
         null
        ],
        [
         "i0100105",
         "Cattle Farming",
         "Raising cattle for meat or dairy production.",
         "ilsfarm",
         null,
         null,
         null,
         null,
         null,
         "i01001",
         "i0",
         null,
         null,
         null,
         null,
         null,
         null
        ],
        [
         "i010010501",
         "Beef Cattle Farming",
         "Raising cattle for beef and veal production.",
         "i0100105",
         null,
         null,
         null,
         null,
         null,
         "ilsfarm",
         "i01001",
         "i0",
         null,
         null,
         null,
         null,
         null
        ],
        [
         "i010010502",
         "Dairy Cattle Farming",
         "Raising dairy cattle for milk production.",
         "i0100105",
         null,
         null,
         null,
         null,
         null,
         "ilsfarm",
         "i01001",
         "i0",
         null,
         null,
         null,
         null,
         null
        ],
        [
         "i0100119",
         "Hog/Pig Farming",
         "Raising pigs for meat production.",
         "ilsfarm",
         null,
         null,
         null,
         null,
         null,
         "i01001",
         "i0",
         null,
         null,
         null,
         null,
         null,
         null
        ],
        [
         "i0100121",
         "Poultry Farming",
         "Raising domesticated birds such as chickens, ducks, geese, turkeys and other poultry for the purpose of farming meat or eggs.",
         "ilsfarm",
         null,
         null,
         null,
         null,
         null,
         "i01001",
         "i0",
         null,
         null,
         null,
         null,
         null,
         null
        ],
        [
         "i0100124",
         "Sheep/Goat Farming",
         "Raising and breeding of domestic sheep, lambs and goats for meat, wool or milk production.",
         "ilsfarm",
         null,
         null,
         null,
         null,
         null,
         "i01001",
         "i0",
         null,
         null,
         null,
         null,
         null,
         null
        ],
        [
         "i0100132",
         "Oilseed/Grain Farming",
         "Growing oilseed or grain crops. Producing oilseed or grain seeds. These crops have an annual life cycle and are typically grown in open fields.",
         "i01001",
         null,
         null,
         null,
         null,
         null,
         "i0",
         null,
         null,
         null,
         null,
         null,
         null,
         null
        ],
        [
         "i010013205",
         "Corn Farming",
         "Growing corn (except sweet corn) or producing corn seeds.",
         "i0100132",
         null,
         null,
         null,
         null,
         null,
         "i01001",
         "i0",
         null,
         null,
         null,
         null,
         null,
         null
        ],
        [
         "i010013203",
         "Dry Pea/Bean Farming",
         "Growing dry peas, beans or lentils. Includes cowpea, chickpea and lima bean farming.",
         "i0100132",
         null,
         null,
         null,
         null,
         null,
         "i01001",
         "i0",
         null,
         null,
         null,
         null,
         null,
         null
        ],
        [
         "i010013202",
         "Edible Oil Plant/Seed Farming",
         "Growing plants that produce edible oils. This includes fibrous oilseed producing plants or the production of oilseed seeds, such as sunflower, safflower, flax, rape, canola, mustard and sesame. It also includes other vegetable and nut oil producing plants such as palm fruit and peanuts. Excludes Soya beans.",
         "i0100132",
         null,
         null,
         null,
         null,
         null,
         "i01001",
         "i0",
         null,
         null,
         null,
         null,
         null,
         null
        ],
        [
         "i010013206",
         "Rice Farming",
         "Growing, cultivating and harvesting of rice crops.",
         "i0100132",
         null,
         null,
         null,
         null,
         null,
         "i01001",
         "i0",
         null,
         null,
         null,
         null,
         null,
         null
        ],
        [
         "i0100223",
         "Soybean Farming",
         "Growing, cultivating and harvesting of soybean crops.",
         "i0100132",
         null,
         null,
         null,
         null,
         null,
         "i01001",
         "i0",
         null,
         null,
         null,
         null,
         null,
         null
        ],
        [
         "i010013204",
         "Wheat Farming",
         "Growing, cultivating and harvesting of wheat crops.",
         "i0100132",
         null,
         null,
         null,
         null,
         null,
         "i01001",
         "i0",
         null,
         null,
         null,
         null,
         null,
         null
        ],
        [
         "iofarm",
         "Organic Farming",
         "Organic farming respects the environment's own systems for controlling pests and diseases in raising crops and livestock and avoids the use of synthetic pesticides, herbicides, chemical fertilizers, growth hormones, antibiotics or gene manipulation.",
         "i01001",
         null,
         null,
         null,
         null,
         null,
         "i0",
         null,
         null,
         null,
         null,
         null,
         null,
         null
        ],
        [
         "i0100141",
         "Rubber Growing",
         "Growing, cultivating and harvesting of rubber trees.",
         "i01001",
         null,
         null,
         null,
         null,
         null,
         "i0",
         null,
         null,
         null,
         null,
         null,
         null,
         null
        ],
        [
         "isugar",
         "Sugar Farming",
         "Growing, cultivating and harvesting of sugar beet and sugarcane crops.",
         "i01001",
         null,
         null,
         null,
         null,
         null,
         "i0",
         null,
         null,
         null,
         null,
         null,
         null,
         null
        ],
        [
         "i0100136",
         "Sugarcane Farming",
         "Growing, cultivating and harvesting of sugarcane crops.",
         "isugar",
         null,
         null,
         null,
         null,
         null,
         "i01001",
         "i0",
         null,
         null,
         null,
         null,
         null,
         null
        ],
        [
         "i0100142",
         "Tea Growing",
         "Growing, cultivating and harvesting of tea crops.",
         "i01001",
         null,
         null,
         null,
         null,
         null,
         "i0",
         null,
         null,
         null,
         null,
         null,
         null,
         null
        ],
        [
         "i0100145",
         "Tobacco Farming",
         "Growing, cultivating and harvesting of tobacco crops.",
         "i01001",
         null,
         null,
         null,
         null,
         null,
         "i0",
         null,
         null,
         null,
         null,
         null,
         null,
         null
        ],
        [
         "i03",
         "Fishing",
         "Commercial catching or taking of finfish, shellfish or miscellaneous marine products.",
         "i0",
         null,
         null,
         null,
         null,
         null,
         null,
         null,
         null,
         null,
         null,
         null,
         null,
         null
        ],
        [
         "i02",
         "Forestry/Logging",
         "Growing and harvesting timber.",
         "i0",
         null,
         null,
         null,
         null,
         null,
         null,
         null,
         null,
         null,
         null,
         null,
         null,
         null
        ],
        [
         "iseed",
         "Seeds",
         "Commercial production of all types of seeds and seedlings.",
         "i0",
         null,
         null,
         null,
         null,
         null,
         null,
         null,
         null,
         null,
         null,
         null,
         null,
         null
        ],
        [
         "i05",
         "Support Activities for Agriculture",
         "Provision of support services, on a fee or contract basis, required for agricultural production and forestry. Includes crop and forest pest control, crop spraying, crop cleaning, crop drying, harvesting, animal breeding and livestock dipping and shearing.",
         "i0",
         null,
         null,
         null,
         null,
         null,
         null,
         null,
         null,
         null,
         null,
         null,
         null,
         null
        ],
        [
         "iaut",
         "Automotive",
         "Manufacturing and repair/maintenance of motorized vehicles and vehicle parts.",
         null,
         null,
         null,
         null,
         null,
         null,
         null,
         null,
         null,
         null,
         null,
         null,
         null,
         null
        ],
        [
         "i671",
         "Automotive Repair/Maintenance",
         "Repair and maintenance services for automotive vehicles.",
         "iaut",
         "i67",
         null,
         null,
         null,
         null,
         "ibcs",
         null,
         null,
         null,
         null,
         null,
         null,
         null
        ],
        [
         "iadrive",
         "Autonomous Driving Technologies",
         "Technologies that assist the driver in some aspects of driving or enable fully autonomous driving of vehicles without a human driver. Includes Self-driving cars, semi-autonomous driving features and driver assistance systems.",
         "iaut",
         "itech",
         null,
         null,
         null,
         null,
         null,
         null,
         null,
         null,
         null,
         null,
         null,
         null
        ],
        [
         "icvtech",
         "Connected Vehicle Technologies",
         "Connectivity technologies that allow bi-directional communication between the vehicle and other devices, networks or vehicles. Examples of these technologies include automotive telematics and connected cars.",
         "iaut",
         "iioft",
         null,
         null,
         null,
         null,
         "i3303",
         "i3302",
         "itech",
         null,
         null,
         null,
         null,
         null
        ],
        [
         "iautnv",
         "Automotive Telematics",
         "In-vehicle systems that combine location based services and other wireless communications for navigation, traffic information, emergency reporting and remote diagnostics. Includes vehicle tracking and trailer tracking for fleet management.",
         "icvtech",
         "i3434",
         null,
         null,
         null,
         null,
         "iaut",
         "iioft",
         "i353",
         "iindele",
         "ielec",
         null,
         null,
         null
        ],
        [
         "i353",
         "Motor Vehicle Parts",
         "Motor vehicle parts and accessories including windshields, interiors and wheels, chassis and panels.",
         "iaut",
         null,
         null,
         null,
         null,
         null,
         null,
         null,
         null,
         null,
         null,
         null,
         null,
         null
        ],
        [
         "i3434",
         "Automobile Electronics",
         "Electrical/electronic equipment and components for use in motorized vehicles.",
         "i353",
         "iindele",
         null,
         null,
         null,
         null,
         "iaut",
         "iindstrls",
         "itech",
         null,
         null,
         null,
         null,
         null
        ],
        [
         "i4811",
         "Tires",
         "Tires (tyres) and inner tubes manufactured from natural and synthetic rubber. Includes retreated tyres.",
         "i353",
         null,
         null,
         null,
         null,
         null,
         "iaut",
         null,
         null,
         null,
         null,
         null,
         null,
         null
        ],
        [
         "iveheng",
         "Vehicle Engine/Engine Parts",
         "Motor vehicle engines and engine parts. Including fuel injection and exhaust systems.",
         "i353",
         null,
         null,
         null,
         null,
         null,
         "iaut",
         null,
         null,
         null,
         null,
         null,
         null,
         null
        ],
        [
         "i351",
         "Motor Vehicles",
         "Complete motorized highway vehicles. Includes All Terrain Vehicles.",
         "iaut",
         null,
         null,
         null,
         null,
         null,
         null,
         null,
         null,
         null,
         null,
         null,
         null,
         null
        ],
        [
         "i35104",
         "Alternative Fuel Vehicles",
         "Motor vehicles powered by alternatives to gasoline and diesel. \"Green\" cars.",
         "i351",
         null,
         null,
         null,
         null,
         null,
         "iaut",
         null,
         null,
         null,
         null,
         null,
         null,
         null
        ],
        [
         "ipev",
         "Personal Electric Vehicles",
         "Manufacturing of battery-powered lightweight personal vehicles, such as e-bikes and e-scooters. For e-bikes, use in conjunction with \"Bicycles/Bicycle Parts\" (i36302). For electric scooter motorcycles, use \"Motorcycles\" (i36301) and \"Alternative Fuel Vehicles\" (i35104).",
         "i35104",
         "ilgood",
         null,
         null,
         null,
         null,
         "i351",
         "iaut",
         "icnp",
         null,
         null,
         null,
         null,
         null
        ]
       ],
       "shape": {
        "columns": 16,
        "rows": 949
       }
      },
      "text/html": [
       "<div>\n",
       "<style scoped>\n",
       "    .dataframe tbody tr th:only-of-type {\n",
       "        vertical-align: middle;\n",
       "    }\n",
       "\n",
       "    .dataframe tbody tr th {\n",
       "        vertical-align: top;\n",
       "    }\n",
       "\n",
       "    .dataframe thead th {\n",
       "        text-align: right;\n",
       "    }\n",
       "</style>\n",
       "<table border=\"1\" class=\"dataframe\">\n",
       "  <thead>\n",
       "    <tr style=\"text-align: right;\">\n",
       "      <th></th>\n",
       "      <th>Descriptor</th>\n",
       "      <th>Description</th>\n",
       "      <th>direct_parents_1</th>\n",
       "      <th>direct_parents_2</th>\n",
       "      <th>direct_parents_3</th>\n",
       "      <th>direct_parents_4</th>\n",
       "      <th>direct_parents_5</th>\n",
       "      <th>direct_parents_6</th>\n",
       "      <th>indirect_parents_1</th>\n",
       "      <th>indirect_parents_2</th>\n",
       "      <th>indirect_parents_3</th>\n",
       "      <th>indirect_parents_4</th>\n",
       "      <th>indirect_parents_5</th>\n",
       "      <th>indirect_parents_6</th>\n",
       "      <th>indirect_parents_7</th>\n",
       "      <th>indirect_parents_8</th>\n",
       "    </tr>\n",
       "    <tr>\n",
       "      <th>code</th>\n",
       "      <th></th>\n",
       "      <th></th>\n",
       "      <th></th>\n",
       "      <th></th>\n",
       "      <th></th>\n",
       "      <th></th>\n",
       "      <th></th>\n",
       "      <th></th>\n",
       "      <th></th>\n",
       "      <th></th>\n",
       "      <th></th>\n",
       "      <th></th>\n",
       "      <th></th>\n",
       "      <th></th>\n",
       "      <th></th>\n",
       "      <th></th>\n",
       "    </tr>\n",
       "  </thead>\n",
       "  <tbody>\n",
       "    <tr>\n",
       "      <th>i0</th>\n",
       "      <td>Agriculture</td>\n",
       "      <td>All farming, forestry, commercial fishing, hun...</td>\n",
       "      <td>NaN</td>\n",
       "      <td>NaN</td>\n",
       "      <td>NaN</td>\n",
       "      <td>NaN</td>\n",
       "      <td>NaN</td>\n",
       "      <td>NaN</td>\n",
       "      <td>NaN</td>\n",
       "      <td>NaN</td>\n",
       "      <td>NaN</td>\n",
       "      <td>NaN</td>\n",
       "      <td>NaN</td>\n",
       "      <td>NaN</td>\n",
       "      <td>NaN</td>\n",
       "      <td>NaN</td>\n",
       "    </tr>\n",
       "    <tr>\n",
       "      <th>i01001</th>\n",
       "      <td>Farming</td>\n",
       "      <td>Agricultural crop production, seed supply and ...</td>\n",
       "      <td>i0</td>\n",
       "      <td>NaN</td>\n",
       "      <td>NaN</td>\n",
       "      <td>NaN</td>\n",
       "      <td>NaN</td>\n",
       "      <td>NaN</td>\n",
       "      <td>NaN</td>\n",
       "      <td>NaN</td>\n",
       "      <td>NaN</td>\n",
       "      <td>NaN</td>\n",
       "      <td>NaN</td>\n",
       "      <td>NaN</td>\n",
       "      <td>NaN</td>\n",
       "      <td>NaN</td>\n",
       "    </tr>\n",
       "    <tr>\n",
       "      <th>i03001</th>\n",
       "      <td>Aquaculture</td>\n",
       "      <td>The farming of aquatic animals and plants such...</td>\n",
       "      <td>i01001</td>\n",
       "      <td>NaN</td>\n",
       "      <td>NaN</td>\n",
       "      <td>NaN</td>\n",
       "      <td>NaN</td>\n",
       "      <td>NaN</td>\n",
       "      <td>i0</td>\n",
       "      <td>NaN</td>\n",
       "      <td>NaN</td>\n",
       "      <td>NaN</td>\n",
       "      <td>NaN</td>\n",
       "      <td>NaN</td>\n",
       "      <td>NaN</td>\n",
       "      <td>NaN</td>\n",
       "    </tr>\n",
       "    <tr>\n",
       "      <th>i0100144</th>\n",
       "      <td>Cocoa Growing</td>\n",
       "      <td>Growing cocoa beans.</td>\n",
       "      <td>i01001</td>\n",
       "      <td>NaN</td>\n",
       "      <td>NaN</td>\n",
       "      <td>NaN</td>\n",
       "      <td>NaN</td>\n",
       "      <td>NaN</td>\n",
       "      <td>i0</td>\n",
       "      <td>NaN</td>\n",
       "      <td>NaN</td>\n",
       "      <td>NaN</td>\n",
       "      <td>NaN</td>\n",
       "      <td>NaN</td>\n",
       "      <td>NaN</td>\n",
       "      <td>NaN</td>\n",
       "    </tr>\n",
       "    <tr>\n",
       "      <th>i0100137</th>\n",
       "      <td>Coffee Growing</td>\n",
       "      <td>Growing coffee beans.</td>\n",
       "      <td>i01001</td>\n",
       "      <td>NaN</td>\n",
       "      <td>NaN</td>\n",
       "      <td>NaN</td>\n",
       "      <td>NaN</td>\n",
       "      <td>NaN</td>\n",
       "      <td>i0</td>\n",
       "      <td>NaN</td>\n",
       "      <td>NaN</td>\n",
       "      <td>NaN</td>\n",
       "      <td>NaN</td>\n",
       "      <td>NaN</td>\n",
       "      <td>NaN</td>\n",
       "      <td>NaN</td>\n",
       "    </tr>\n",
       "    <tr>\n",
       "      <th>...</th>\n",
       "      <td>...</td>\n",
       "      <td>...</td>\n",
       "      <td>...</td>\n",
       "      <td>...</td>\n",
       "      <td>...</td>\n",
       "      <td>...</td>\n",
       "      <td>...</td>\n",
       "      <td>...</td>\n",
       "      <td>...</td>\n",
       "      <td>...</td>\n",
       "      <td>...</td>\n",
       "      <td>...</td>\n",
       "      <td>...</td>\n",
       "      <td>...</td>\n",
       "      <td>...</td>\n",
       "      <td>...</td>\n",
       "    </tr>\n",
       "    <tr>\n",
       "      <th>iutil</th>\n",
       "      <td>Utilities</td>\n",
       "      <td>The generation, transmission or distribution o...</td>\n",
       "      <td>NaN</td>\n",
       "      <td>NaN</td>\n",
       "      <td>NaN</td>\n",
       "      <td>NaN</td>\n",
       "      <td>NaN</td>\n",
       "      <td>NaN</td>\n",
       "      <td>NaN</td>\n",
       "      <td>NaN</td>\n",
       "      <td>NaN</td>\n",
       "      <td>NaN</td>\n",
       "      <td>NaN</td>\n",
       "      <td>NaN</td>\n",
       "      <td>NaN</td>\n",
       "      <td>NaN</td>\n",
       "    </tr>\n",
       "    <tr>\n",
       "      <th>imulti</th>\n",
       "      <td>Multiutilities</td>\n",
       "      <td>Utility companies with significant presence in...</td>\n",
       "      <td>iutil</td>\n",
       "      <td>NaN</td>\n",
       "      <td>NaN</td>\n",
       "      <td>NaN</td>\n",
       "      <td>NaN</td>\n",
       "      <td>NaN</td>\n",
       "      <td>NaN</td>\n",
       "      <td>NaN</td>\n",
       "      <td>NaN</td>\n",
       "      <td>NaN</td>\n",
       "      <td>NaN</td>\n",
       "      <td>NaN</td>\n",
       "      <td>NaN</td>\n",
       "      <td>NaN</td>\n",
       "    </tr>\n",
       "    <tr>\n",
       "      <th>i17</th>\n",
       "      <td>Water Utilities</td>\n",
       "      <td>Operating water treatment plants and/or operat...</td>\n",
       "      <td>iutil</td>\n",
       "      <td>NaN</td>\n",
       "      <td>NaN</td>\n",
       "      <td>NaN</td>\n",
       "      <td>NaN</td>\n",
       "      <td>NaN</td>\n",
       "      <td>NaN</td>\n",
       "      <td>NaN</td>\n",
       "      <td>NaN</td>\n",
       "      <td>NaN</td>\n",
       "      <td>NaN</td>\n",
       "      <td>NaN</td>\n",
       "      <td>NaN</td>\n",
       "      <td>NaN</td>\n",
       "    </tr>\n",
       "    <tr>\n",
       "      <th>idesal</th>\n",
       "      <td>Desalination</td>\n",
       "      <td>Desalination is the process of removing salt a...</td>\n",
       "      <td>i17</td>\n",
       "      <td>NaN</td>\n",
       "      <td>NaN</td>\n",
       "      <td>NaN</td>\n",
       "      <td>NaN</td>\n",
       "      <td>NaN</td>\n",
       "      <td>iutil</td>\n",
       "      <td>NaN</td>\n",
       "      <td>NaN</td>\n",
       "      <td>NaN</td>\n",
       "      <td>NaN</td>\n",
       "      <td>NaN</td>\n",
       "      <td>NaN</td>\n",
       "      <td>NaN</td>\n",
       "    </tr>\n",
       "    <tr>\n",
       "      <th>idishea</th>\n",
       "      <td>District Heating/Cooling</td>\n",
       "      <td>Heating systems that involve the distribution ...</td>\n",
       "      <td>i17</td>\n",
       "      <td>NaN</td>\n",
       "      <td>NaN</td>\n",
       "      <td>NaN</td>\n",
       "      <td>NaN</td>\n",
       "      <td>NaN</td>\n",
       "      <td>iutil</td>\n",
       "      <td>NaN</td>\n",
       "      <td>NaN</td>\n",
       "      <td>NaN</td>\n",
       "      <td>NaN</td>\n",
       "      <td>NaN</td>\n",
       "      <td>NaN</td>\n",
       "      <td>NaN</td>\n",
       "    </tr>\n",
       "  </tbody>\n",
       "</table>\n",
       "<p>949 rows × 16 columns</p>\n",
       "</div>"
      ],
      "text/plain": [
       "                        Descriptor  ... indirect_parents_8\n",
       "code                                ...                   \n",
       "i0                     Agriculture  ...                NaN\n",
       "i01001                     Farming  ...                NaN\n",
       "i03001                 Aquaculture  ...                NaN\n",
       "i0100144             Cocoa Growing  ...                NaN\n",
       "i0100137            Coffee Growing  ...                NaN\n",
       "...                            ...  ...                ...\n",
       "iutil                    Utilities  ...                NaN\n",
       "imulti              Multiutilities  ...                NaN\n",
       "i17                Water Utilities  ...                NaN\n",
       "idesal                Desalination  ...                NaN\n",
       "idishea   District Heating/Cooling  ...                NaN\n",
       "\n",
       "[949 rows x 16 columns]"
      ]
     },
     "execution_count": 30,
     "metadata": {},
     "output_type": "execute_result"
    }
   ],
   "source": [
    "taxonomy.get_category_codes('hierarchyIndustry')"
   ]
  },
  {
   "cell_type": "code",
   "execution_count": 35,
   "id": "f60cd849",
   "metadata": {},
   "outputs": [
    {
     "data": {
      "application/vnd.microsoft.datawrangler.viewer.v0+json": {
       "columns": [
        {
         "name": "code",
         "rawType": "object",
         "type": "string"
        },
        {
         "name": "description",
         "rawType": "object",
         "type": "string"
        },
        {
         "name": "ticker",
         "rawType": "object",
         "type": "unknown"
        },
        {
         "name": "ticker_exchange",
         "rawType": "object",
         "type": "unknown"
        },
        {
         "name": "exchange",
         "rawType": "object",
         "type": "unknown"
        },
        {
         "name": "primary_exchange",
         "rawType": "object",
         "type": "unknown"
        }
       ],
       "conversionMethod": "pd.DataFrame",
       "ref": "836c2adc-dcc2-442f-8f29-849683bcd34d",
       "rows": [
        [
         "ISPETT",
         "Import Spetstorh Tov",
         null,
         null,
         null,
         null
        ],
        [
         "MSHARM",
         "Mshak",
         null,
         null,
         null,
         null
        ],
        [
         "NOCSNO",
         "Nordic-Calista Llc",
         null,
         null,
         null,
         null
        ],
        [
         "XPKYTC",
         "Xiapu Kunhai Yichen Trading Co. Ltd",
         null,
         null,
         null,
         null
        ],
        [
         "NZITSB",
         "Naza Italia Sdn. Bhd.",
         null,
         null,
         null,
         null
        ],
        [
         "STKNPM",
         "Shenzhen International Trade Science And Technology Park Service Co. Ltd.",
         null,
         null,
         null,
         null
        ],
        [
         "DEREXT",
         "Ministerio De Relaciones Exteriores",
         null,
         null,
         null,
         null
        ],
        [
         "FRIEIL",
         "Friedheim International Ltd",
         null,
         null,
         null,
         null
        ],
        [
         "BRKINV",
         "BRUKSINVEST",
         null,
         null,
         null,
         null
        ],
        [
         "PEVSTO",
         "Peverstone Cheese Company Ltd",
         null,
         null,
         null,
         null
        ],
        [
         "FVSGRM",
         "Disa Global Solutions Inc",
         null,
         null,
         null,
         null
        ],
        [
         "ZTOCCO",
         "Zhejiang Tonghua Chemical Co. Ltd.",
         null,
         null,
         null,
         null
        ],
        [
         "TCNCLS",
         "Tecnoclinic Sa",
         null,
         null,
         null,
         null
        ],
        [
         "SASPAT",
         "Sakai Steel Pipe And Tube Co. Ltd.",
         null,
         null,
         null,
         null
        ],
        [
         "YBYMCS",
         "Yibin Yima Car Sales Service Co. Ltd.",
         null,
         null,
         null,
         null
        ],
        [
         "XPDABE",
         "Xinxiang Pingyuan Demonstration Area Bihai Environmental Engineering Co. Ltd.",
         null,
         null,
         null,
         null
        ],
        [
         "NORTUC",
         "Northgate Uk Company",
         null,
         null,
         null,
         null
        ],
        [
         "ONEETB",
         "The One Estate",
         null,
         null,
         null,
         null
        ],
        [
         "GXWEIY",
         "Gansu Xingsheng Weiye Commerce And Trade Co. Ltd.",
         null,
         null,
         null,
         null
        ],
        [
         "ISLTRA",
         "SMITH ZAIN SECURITIES SDN BHD",
         null,
         null,
         null,
         null
        ],
        [
         "DSUVGS",
         "Dalyan Su Urunleri Ve Gida Sanayi Nakliyat Ticaret Limited Sirketi",
         null,
         null,
         null,
         null
        ],
        [
         "ARRCSD",
         "Aurora City School District",
         null,
         null,
         null,
         null
        ],
        [
         "QLOJIE",
         "Qingdao Longcheng Jiatai Installation Engineering Co. Ltd.",
         null,
         null,
         null,
         null
        ],
        [
         "AUCLHL",
         "Aurora Chicago Lakeshore Hospital Llc",
         null,
         null,
         null,
         null
        ],
        [
         "AMMJFU",
         "American Marijuana Fund Advisors",
         null,
         null,
         null,
         null
        ],
        [
         "PNOGLW",
         "Wuyishan Shangzeyuan Ecology Tea Supply Co. Ltd.",
         null,
         null,
         null,
         null
        ],
        [
         "YRGDEU",
         "SPETSTEKHSERVIS OOO",
         null,
         null,
         null,
         null
        ],
        [
         "AOVBVV",
         "NewDominion Bank",
         null,
         null,
         null,
         null
        ],
        [
         "IVTEHL",
         "Ivy Technology Holdings Llc",
         null,
         null,
         null,
         null
        ],
        [
         "KNWESH",
         "Kenda New Energy (Shanghai) Co. Ltd.",
         null,
         null,
         null,
         null
        ],
        [
         "BJDSLS",
         "Beijing Dongfang Shijue Landscape Sculpture Co. Ltd.",
         null,
         null,
         null,
         null
        ],
        [
         "SACMLD",
         "Saleh Carpet Mills Limited",
         "SALEHCARPT",
         "SALEHCARPT:XDHA",
         "XDHA",
         "XDHA"
        ],
        [
         "SOENJO",
         "Society of Environmental Journalists",
         null,
         null,
         null,
         null
        ],
        [
         "CPSLT",
         "Capsulit Spa",
         null,
         null,
         null,
         null
        ],
        [
         "BOAJSC",
         "Bien Hoa Packaging Joint Stock Company",
         "SVI",
         "SVI:XSTC",
         "XSTC",
         "XSTC"
        ],
        [
         "JTIFQZ",
         "Guizhou Wanshui Hongding Commerce And Trade Co. Ltd.",
         null,
         null,
         null,
         null
        ],
        [
         "PFGQYY",
         "Shanghai Zhongjiang Investment Center (Limited Partnership)",
         null,
         null,
         null,
         null
        ],
        [
         "AGSCCL",
         "Agrovaldes S.Coop. Asturiana Limitada",
         null,
         null,
         null,
         null
        ],
        [
         "IMBGJR",
         "Genco Develop Co. Ltd.",
         null,
         null,
         null,
         null
        ],
        [
         "NAZGOA",
         "NAZAROVSKAYA GRES AO",
         null,
         null,
         null,
         null
        ],
        [
         "CCHARC",
         "Laboratoires Charles River Saint-Constant S.A.",
         null,
         null,
         null,
         null
        ],
        [
         "SNDOZ:NVS",
         "Novartis AG (ADR)",
         null,
         null,
         null,
         null
        ],
        [
         "TFUASL",
         "Trac Fujico Air Systmes Limited",
         null,
         null,
         null,
         null
        ],
        [
         "SGEPNC",
         "Seguridad El Pentagono Colombiano Ltda",
         null,
         null,
         null,
         null
        ],
        [
         "OUFLBU",
         "Gea Process Engineering A/S",
         null,
         null,
         null,
         null
        ],
        [
         "EALGMB",
         "EAL GmbH",
         null,
         null,
         null,
         null
        ],
        [
         "AJWNMT",
         "Anhui Jujie Weiqian New Material Technology Co. Ltd.",
         null,
         null,
         null,
         null
        ],
        [
         "VFYMCJ",
         "Lang High-Tech Co. Ltd.",
         null,
         null,
         null,
         null
        ],
        [
         "VSBALS",
         "Visible Alpha Solutions India Private Limited",
         null,
         null,
         null,
         null
        ],
        [
         "SRNJNQ",
         "Shanghai Runjianquan Science & Technology Development Co. Ltd.",
         null,
         null,
         null,
         null
        ]
       ],
       "shape": {
        "columns": 5,
        "rows": 2056138
       }
      },
      "text/html": [
       "<div>\n",
       "<style scoped>\n",
       "    .dataframe tbody tr th:only-of-type {\n",
       "        vertical-align: middle;\n",
       "    }\n",
       "\n",
       "    .dataframe tbody tr th {\n",
       "        vertical-align: top;\n",
       "    }\n",
       "\n",
       "    .dataframe thead th {\n",
       "        text-align: right;\n",
       "    }\n",
       "</style>\n",
       "<table border=\"1\" class=\"dataframe\">\n",
       "  <thead>\n",
       "    <tr style=\"text-align: right;\">\n",
       "      <th></th>\n",
       "      <th>description</th>\n",
       "      <th>ticker</th>\n",
       "      <th>ticker_exchange</th>\n",
       "      <th>exchange</th>\n",
       "      <th>primary_exchange</th>\n",
       "    </tr>\n",
       "    <tr>\n",
       "      <th>code</th>\n",
       "      <th></th>\n",
       "      <th></th>\n",
       "      <th></th>\n",
       "      <th></th>\n",
       "      <th></th>\n",
       "    </tr>\n",
       "  </thead>\n",
       "  <tbody>\n",
       "    <tr>\n",
       "      <th>ISPETT</th>\n",
       "      <td>Import Spetstorh Tov</td>\n",
       "      <td>NaN</td>\n",
       "      <td>NaN</td>\n",
       "      <td>NaN</td>\n",
       "      <td>NaN</td>\n",
       "    </tr>\n",
       "    <tr>\n",
       "      <th>MSHARM</th>\n",
       "      <td>Mshak</td>\n",
       "      <td>NaN</td>\n",
       "      <td>NaN</td>\n",
       "      <td>NaN</td>\n",
       "      <td>NaN</td>\n",
       "    </tr>\n",
       "    <tr>\n",
       "      <th>NOCSNO</th>\n",
       "      <td>Nordic-Calista Llc</td>\n",
       "      <td>NaN</td>\n",
       "      <td>NaN</td>\n",
       "      <td>NaN</td>\n",
       "      <td>NaN</td>\n",
       "    </tr>\n",
       "    <tr>\n",
       "      <th>XPKYTC</th>\n",
       "      <td>Xiapu Kunhai Yichen Trading Co. Ltd</td>\n",
       "      <td>NaN</td>\n",
       "      <td>NaN</td>\n",
       "      <td>NaN</td>\n",
       "      <td>NaN</td>\n",
       "    </tr>\n",
       "    <tr>\n",
       "      <th>NZITSB</th>\n",
       "      <td>Naza Italia Sdn. Bhd.</td>\n",
       "      <td>NaN</td>\n",
       "      <td>NaN</td>\n",
       "      <td>NaN</td>\n",
       "      <td>NaN</td>\n",
       "    </tr>\n",
       "    <tr>\n",
       "      <th>...</th>\n",
       "      <td>...</td>\n",
       "      <td>...</td>\n",
       "      <td>...</td>\n",
       "      <td>...</td>\n",
       "      <td>...</td>\n",
       "    </tr>\n",
       "    <tr>\n",
       "      <th>GLBWIN</th>\n",
       "      <td>GLOBAL WINES</td>\n",
       "      <td>NaN</td>\n",
       "      <td>NaN</td>\n",
       "      <td>NaN</td>\n",
       "      <td>NaN</td>\n",
       "    </tr>\n",
       "    <tr>\n",
       "      <th>RNGASW</th>\n",
       "      <td>Ringier Ag</td>\n",
       "      <td>NaN</td>\n",
       "      <td>NaN</td>\n",
       "      <td>NaN</td>\n",
       "      <td>NaN</td>\n",
       "    </tr>\n",
       "    <tr>\n",
       "      <th>AAVBSA</th>\n",
       "      <td>Abs Alci Ve Blok Sanayi Anonim Sirketi</td>\n",
       "      <td>NaN</td>\n",
       "      <td>NaN</td>\n",
       "      <td>NaN</td>\n",
       "      <td>NaN</td>\n",
       "    </tr>\n",
       "    <tr>\n",
       "      <th>FRMDEN</th>\n",
       "      <td>Farmco</td>\n",
       "      <td>NaN</td>\n",
       "      <td>NaN</td>\n",
       "      <td>NaN</td>\n",
       "      <td>NaN</td>\n",
       "    </tr>\n",
       "    <tr>\n",
       "      <th>WFIVSA</th>\n",
       "      <td>W5 Solutions AB</td>\n",
       "      <td>EY7</td>\n",
       "      <td>EY7:XFRA</td>\n",
       "      <td>XFRA</td>\n",
       "      <td>XSTO</td>\n",
       "    </tr>\n",
       "  </tbody>\n",
       "</table>\n",
       "<p>2056138 rows × 5 columns</p>\n",
       "</div>"
      ],
      "text/plain": [
       "                                   description ticker  ... exchange primary_exchange\n",
       "code                                                   ...                          \n",
       "ISPETT                    Import Spetstorh Tov    NaN  ...      NaN              NaN\n",
       "MSHARM                                   Mshak    NaN  ...      NaN              NaN\n",
       "NOCSNO                      Nordic-Calista Llc    NaN  ...      NaN              NaN\n",
       "XPKYTC     Xiapu Kunhai Yichen Trading Co. Ltd    NaN  ...      NaN              NaN\n",
       "NZITSB                   Naza Italia Sdn. Bhd.    NaN  ...      NaN              NaN\n",
       "...                                        ...    ...  ...      ...              ...\n",
       "GLBWIN                            GLOBAL WINES    NaN  ...      NaN              NaN\n",
       "RNGASW                              Ringier Ag    NaN  ...      NaN              NaN\n",
       "AAVBSA  Abs Alci Ve Blok Sanayi Anonim Sirketi    NaN  ...      NaN              NaN\n",
       "FRMDEN                                  Farmco    NaN  ...      NaN              NaN\n",
       "WFIVSA                         W5 Solutions AB    EY7  ...     XFRA             XSTO\n",
       "\n",
       "[2056138 rows x 5 columns]"
      ]
     },
     "execution_count": 35,
     "metadata": {},
     "output_type": "execute_result"
    }
   ],
   "source": [
    "taxonomy.get_category_codes('companies')"
   ]
  },
  {
   "cell_type": "code",
   "execution_count": null,
   "id": "2fead695",
   "metadata": {},
   "outputs": [
    {
     "data": {
      "application/vnd.microsoft.datawrangler.viewer.v0+json": {
       "columns": [
        {
         "name": "code",
         "rawType": "object",
         "type": "string"
        },
        {
         "name": "description",
         "rawType": "object",
         "type": "string"
        }
       ],
       "conversionMethod": "pd.DataFrame",
       "ref": "47aa618a-d9cb-4c08-877b-1dc0d5451c37",
       "rows": [
        [
         "ABDEEN",
         "Aberdeen"
        ],
        [
         "ABIDJA",
         "Abidjan"
        ],
        [
         "ABKHAZ",
         "Abkhazia"
        ],
        [
         "ABZZO",
         "Abruzzo"
        ],
        [
         "ABUDH",
         "Abu Dhabi"
        ],
        [
         "ABUJA",
         "Abuja"
        ],
        [
         "ACCRA",
         "Accra"
        ],
        [
         "ACRE",
         "Acre"
        ],
        [
         "ADANA",
         "Adana"
        ],
        [
         "ADDIS",
         "Addis Ababa"
        ],
        [
         "ADELAI",
         "Adelaide"
        ],
        [
         "AFGH",
         "Afghanistan"
        ],
        [
         "AFRICAZ",
         "Africa"
        ],
        [
         "AGUASC",
         "Aguascalientes"
        ],
        [
         "AHEMDA",
         "Ahmedabad"
        ],
        [
         "USAL",
         "Alabama"
        ],
        [
         "ALAGO",
         "Alagoas"
        ],
        [
         "USAK",
         "Alaska"
        ],
        [
         "ALB",
         "Albania"
        ],
        [
         "CAAB",
         "Alberta"
        ],
        [
         "ALEPPO",
         "Aleppo"
        ],
        [
         "ALXDR",
         "Alexandria (Egypt)"
        ],
        [
         "ALG",
         "Algeria"
        ],
        [
         "ALGIER",
         "Algiers"
        ],
        [
         "ALMATY",
         "Almaty"
        ],
        [
         "ALOFI",
         "Alofi"
        ],
        [
         "AMAPA",
         "Amapá"
        ],
        [
         "AMAZ",
         "Amazonas"
        ],
        [
         "AMSAM",
         "American Samoa"
        ],
        [
         "AMMAN",
         "Amman"
        ],
        [
         "AMSTR",
         "Amsterdam"
        ],
        [
         "ANDAL",
         "Andalusia"
        ],
        [
         "ANDAM",
         "Andaman and Nicobar Islands"
        ],
        [
         "ANDHRA",
         "Andhra Pradesh"
        ],
        [
         "ANDO",
         "Andorra"
        ],
        [
         "ADRVL",
         "Andorra la Vella"
        ],
        [
         "ANGOL",
         "Angola"
        ],
        [
         "ANGUIL",
         "Anguilla"
        ],
        [
         "ANHUI",
         "Anhui"
        ],
        [
         "ANKRA",
         "Ankara"
        ],
        [
         "ANTALY",
         "Antalya"
        ],
        [
         "ANTANA",
         "Antananarivo"
        ],
        [
         "AARCT",
         "Antarctica"
        ],
        [
         "ANTA",
         "Antigua and Barbuda"
        ],
        [
         "ANTWE",
         "Antwerp"
        ],
        [
         "AOSTA",
         "Aosta Valley"
        ],
        [
         "APIA",
         "Apia"
        ],
        [
         "APULIA",
         "Apulia"
        ],
        [
         "ARAGN",
         "Aragon"
        ],
        [
         "ARCT",
         "Arctic Region"
        ]
       ],
       "shape": {
        "columns": 1,
        "rows": 977
       }
      },
      "text/html": [
       "<div>\n",
       "<style scoped>\n",
       "    .dataframe tbody tr th:only-of-type {\n",
       "        vertical-align: middle;\n",
       "    }\n",
       "\n",
       "    .dataframe tbody tr th {\n",
       "        vertical-align: top;\n",
       "    }\n",
       "\n",
       "    .dataframe thead th {\n",
       "        text-align: right;\n",
       "    }\n",
       "</style>\n",
       "<table border=\"1\" class=\"dataframe\">\n",
       "  <thead>\n",
       "    <tr style=\"text-align: right;\">\n",
       "      <th></th>\n",
       "      <th>description</th>\n",
       "    </tr>\n",
       "    <tr>\n",
       "      <th>code</th>\n",
       "      <th></th>\n",
       "    </tr>\n",
       "  </thead>\n",
       "  <tbody>\n",
       "    <tr>\n",
       "      <th>ABDEEN</th>\n",
       "      <td>Aberdeen</td>\n",
       "    </tr>\n",
       "    <tr>\n",
       "      <th>ABIDJA</th>\n",
       "      <td>Abidjan</td>\n",
       "    </tr>\n",
       "    <tr>\n",
       "      <th>ABKHAZ</th>\n",
       "      <td>Abkhazia</td>\n",
       "    </tr>\n",
       "    <tr>\n",
       "      <th>ABZZO</th>\n",
       "      <td>Abruzzo</td>\n",
       "    </tr>\n",
       "    <tr>\n",
       "      <th>ABUDH</th>\n",
       "      <td>Abu Dhabi</td>\n",
       "    </tr>\n",
       "    <tr>\n",
       "      <th>...</th>\n",
       "      <td>...</td>\n",
       "    </tr>\n",
       "    <tr>\n",
       "      <th>ZAMBIA</th>\n",
       "      <td>Zambia</td>\n",
       "    </tr>\n",
       "    <tr>\n",
       "      <th>ZHEJI</th>\n",
       "      <td>Zhejiang</td>\n",
       "    </tr>\n",
       "    <tr>\n",
       "      <th>ZHENZH</th>\n",
       "      <td>Zhengzhou</td>\n",
       "    </tr>\n",
       "    <tr>\n",
       "      <th>ZIMBAB</th>\n",
       "      <td>Zimbabwe</td>\n",
       "    </tr>\n",
       "    <tr>\n",
       "      <th>ZURIC</th>\n",
       "      <td>Zürich</td>\n",
       "    </tr>\n",
       "  </tbody>\n",
       "</table>\n",
       "<p>977 rows × 1 columns</p>\n",
       "</div>"
      ],
      "text/plain": [
       "       description\n",
       "code              \n",
       "ABDEEN    Aberdeen\n",
       "ABIDJA     Abidjan\n",
       "ABKHAZ    Abkhazia\n",
       "ABZZO      Abruzzo\n",
       "ABUDH    Abu Dhabi\n",
       "...            ...\n",
       "ZAMBIA      Zambia\n",
       "ZHEJI     Zhejiang\n",
       "ZHENZH   Zhengzhou\n",
       "ZIMBAB    Zimbabwe\n",
       "ZURIC       Zürich\n",
       "\n",
       "[977 rows x 1 columns]"
      ]
     },
     "execution_count": 32,
     "metadata": {},
     "output_type": "execute_result"
    }
   ],
   "source": [
    "taxonomy.get_category_codes('regions')"
   ]
  },
  {
   "cell_type": "code",
   "execution_count": null,
   "id": "42886169",
   "metadata": {},
   "outputs": [
    {
     "data": {
      "application/vnd.microsoft.datawrangler.viewer.v0+json": {
       "columns": [
        {
         "name": "code",
         "rawType": "object",
         "type": "string"
        },
        {
         "name": "description",
         "rawType": "object",
         "type": "string"
        }
       ],
       "conversionMethod": "pd.DataFrame",
       "ref": "b72d6f6a-0f0f-45d6-8dab-0a0a920d6c3a",
       "rows": [
        [
         "GABOR",
         "Abortion"
        ],
        [
         "NABST",
         "Abstracts"
        ],
        [
         "CACQU",
         "Acquisitions/Mergers"
        ],
        [
         "C181",
         "Acquisitions/Mergers/Shareholdings"
        ],
        [
         "GADR",
         "Adverse Drug Reactions"
        ],
        [
         "C32",
         "Advertising"
        ],
        [
         "CADSP",
         "Advertising Spending"
        ],
        [
         "NADVTR",
         "Advertorials/Sponsored Content"
        ],
        [
         "NADC",
         "Advice"
        ],
        [
         "NADV",
         "Advisories"
        ],
        [
         "GAERO",
         "Aero/Air Sports"
        ],
        [
         "GAFFM",
         "Affirmative Action"
        ],
        [
         "GAFHO",
         "Affordable/Social Housing"
        ],
        [
         "GAGED",
         "Age Discrimination"
        ],
        [
         "M141",
         "Agricultural Commodity Markets"
        ],
        [
         "E1110",
         "Agricultural Production Figures"
        ],
        [
         "GHIV",
         "AIDS/HIV"
        ],
        [
         "NAIGC",
         "AI-Generated Content"
        ],
        [
         "GAIRF",
         "Air Force"
        ],
        [
         "GAIRP",
         "Air Pollution"
        ],
        [
         "GALCM",
         "Alcoholism"
        ],
        [
         "NAMT",
         "All Market Talk"
        ],
        [
         "GALL",
         "Allergies"
        ],
        [
         "GALPS",
         "Alpine Skiing"
        ],
        [
         "GALTM",
         "Alternative Medicine/Treatments"
        ],
        [
         "MALUM",
         "Aluminium Markets"
        ],
        [
         "GALZ",
         "Alzheimer's Disease"
        ],
        [
         "GAMER",
         "American Football"
        ],
        [
         "NANL",
         "Analyses"
        ],
        [
         "C1521",
         "Analysts' Comments/Recommendations"
        ],
        [
         "GANGL",
         "Angling"
        ],
        [
         "GANMTK",
         "Animal Attacks"
        ],
        [
         "GAHEA",
         "Animal Health"
        ],
        [
         "GAVFLU",
         "Animal Influenza"
        ],
        [
         "GARIG",
         "Animal Rights"
        ],
        [
         "GAINF",
         "Animal/Insect Infestations"
        ],
        [
         "GANIMF",
         "Animated Films"
        ],
        [
         "CANREF",
         "Annual Report Filings"
        ],
        [
         "C1511",
         "Annual/Shareholder/Board Meetings"
        ],
        [
         "GANTPY",
         "Anthropology"
        ],
        [
         "C34",
         "Anti-Competition Issues"
        ],
        [
         "GPHOB",
         "Anxiety Disorders"
        ],
        [
         "GAQUA",
         "Aquatics/Water Sports"
        ],
        [
         "GARLGY",
         "Archaeology"
        ],
        [
         "GARCH",
         "Archery"
        ],
        [
         "GARCHI",
         "Architecture"
        ],
        [
         "GDEF",
         "Armed Forces"
        ],
        [
         "GCOUP",
         "Armed Rebellion"
        ],
        [
         "GARMY",
         "Army"
        ],
        [
         "GARSON",
         "Arson"
        ]
       ],
       "shape": {
        "columns": 1,
        "rows": 915
       }
      },
      "text/html": [
       "<div>\n",
       "<style scoped>\n",
       "    .dataframe tbody tr th:only-of-type {\n",
       "        vertical-align: middle;\n",
       "    }\n",
       "\n",
       "    .dataframe tbody tr th {\n",
       "        vertical-align: top;\n",
       "    }\n",
       "\n",
       "    .dataframe thead th {\n",
       "        text-align: right;\n",
       "    }\n",
       "</style>\n",
       "<table border=\"1\" class=\"dataframe\">\n",
       "  <thead>\n",
       "    <tr style=\"text-align: right;\">\n",
       "      <th></th>\n",
       "      <th>description</th>\n",
       "    </tr>\n",
       "    <tr>\n",
       "      <th>code</th>\n",
       "      <th></th>\n",
       "    </tr>\n",
       "  </thead>\n",
       "  <tbody>\n",
       "    <tr>\n",
       "      <th>GABOR</th>\n",
       "      <td>Abortion</td>\n",
       "    </tr>\n",
       "    <tr>\n",
       "      <th>NABST</th>\n",
       "      <td>Abstracts</td>\n",
       "    </tr>\n",
       "    <tr>\n",
       "      <th>CACQU</th>\n",
       "      <td>Acquisitions/Mergers</td>\n",
       "    </tr>\n",
       "    <tr>\n",
       "      <th>C181</th>\n",
       "      <td>Acquisitions/Mergers/Shareholdings</td>\n",
       "    </tr>\n",
       "    <tr>\n",
       "      <th>GADR</th>\n",
       "      <td>Adverse Drug Reactions</td>\n",
       "    </tr>\n",
       "    <tr>\n",
       "      <th>...</th>\n",
       "      <td>...</td>\n",
       "    </tr>\n",
       "    <tr>\n",
       "      <th>CWKDIS</th>\n",
       "      <td>Workplace Abuse</td>\n",
       "    </tr>\n",
       "    <tr>\n",
       "      <th>CWKDIV</th>\n",
       "      <td>Workplace Diversity</td>\n",
       "    </tr>\n",
       "    <tr>\n",
       "      <th>COCCSH</th>\n",
       "      <td>Workplace Safety/Occupational Health</td>\n",
       "    </tr>\n",
       "    <tr>\n",
       "      <th>GYACH</th>\n",
       "      <td>Yachting</td>\n",
       "    </tr>\n",
       "    <tr>\n",
       "      <th>MZINC</th>\n",
       "      <td>Zinc Markets</td>\n",
       "    </tr>\n",
       "  </tbody>\n",
       "</table>\n",
       "<p>915 rows × 1 columns</p>\n",
       "</div>"
      ],
      "text/plain": [
       "                                 description\n",
       "code                                        \n",
       "GABOR                               Abortion\n",
       "NABST                              Abstracts\n",
       "CACQU                   Acquisitions/Mergers\n",
       "C181      Acquisitions/Mergers/Shareholdings\n",
       "GADR                  Adverse Drug Reactions\n",
       "...                                      ...\n",
       "CWKDIS                       Workplace Abuse\n",
       "CWKDIV                   Workplace Diversity\n",
       "COCCSH  Workplace Safety/Occupational Health\n",
       "GYACH                               Yachting\n",
       "MZINC                           Zinc Markets\n",
       "\n",
       "[915 rows x 1 columns]"
      ]
     },
     "execution_count": 31,
     "metadata": {},
     "output_type": "execute_result"
    }
   ],
   "source": [
    "taxonomy.get_category_codes('news_subjects')"
   ]
  },
  {
   "cell_type": "code",
   "execution_count": 15,
   "id": "6020350e",
   "metadata": {},
   "outputs": [],
   "source": [
    "future_search_terms = ['Portfolio simplification',\n",
    "'Business simplification',\n",
    "'Strategic actions',\n",
    "'Review [of strategic alternatives]',\n",
    "'Divestment',\n",
    "'Divestiture',\n",
    "'Divest / divesting',\n",
    "'Disposal',\n",
    "'Non-core [asset]',\n",
    "'Focus / Refocus on core assets',\n",
    "'Reduce leverage',\n",
    "'Improve liquidity',\n",
    "'[bonds / notes / debt] maturing in [2025 / 2026 / 2027 / 2028]',\n",
    "'Rationalize costs',\n",
    "'Restructuring [program]',\n",
    "'In talks to [divest]',\n",
    "'[Capital return]',]"
   ]
  },
  {
   "cell_type": "code",
   "execution_count": null,
   "id": "7e07418f",
   "metadata": {},
   "outputs": [],
   "source": [
    "past_search_terms = ['Divestment',\n",
    "'Divestiture',\n",
    "'Divest',\n",
    "'divesting',\n",
    "'Disposal',\n",
    "'Non-core [asset]',\n",
    "'Sold',\n",
    "'divested',\n",
    "'Signed an agreement to sell',\n",
    "'Entered into an agreement to sell',\n",
    "'Special dividend',\n",
    "'sale proceeds will be used to',\n",
    "'Business simplification']"
   ]
  },
  {
   "cell_type": "markdown",
   "id": "2572c710",
   "metadata": {},
   "source": [
    "### Deals search criteria\n",
    "* Completed date (last 10 years)\n",
    "* Geography (Europe)\n",
    "* Deal technique (Divestment)\n",
    "* Sector (Financial services)\n",
    "* Size (TBD)"
   ]
  },
  {
   "cell_type": "code",
   "execution_count": null,
   "id": "273ab4ca",
   "metadata": {},
   "outputs": [],
   "source": [
    "query = {\n",
    "    \"where\": {\"language-code: 'en' AND 'publication-datetime' >= '2015-01-01 00:00:00' AND 'publication-datetime' <= '2025-04-01 00:00:00'\"},\n",
    "}"
   ]
  },
  {
   "cell_type": "markdown",
   "id": "2a90fd4e",
   "metadata": {},
   "source": []
  }
 ],
 "metadata": {
  "kernelspec": {
   "display_name": "venv",
   "language": "python",
   "name": "python3"
  },
  "language_info": {
   "codemirror_mode": {
    "name": "ipython",
    "version": 3
   },
   "file_extension": ".py",
   "mimetype": "text/x-python",
   "name": "python",
   "nbconvert_exporter": "python",
   "pygments_lexer": "ipython3",
   "version": "3.12.2"
  }
 },
 "nbformat": 4,
 "nbformat_minor": 5
}
