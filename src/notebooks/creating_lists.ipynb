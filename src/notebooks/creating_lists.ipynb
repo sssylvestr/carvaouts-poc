{
 "cells": [
  {
   "cell_type": "code",
   "execution_count": 1,
   "id": "49c494a2",
   "metadata": {},
   "outputs": [],
   "source": [
    "import requests\n",
    "lists_url = \"https://api.dowjones.com/sns-lists\"\n",
    "user_key = \"LKbI9fY6ZEPU8RcJUxQHjwKbld52WGt0\"\n",
    "\n",
    "headers = {\n",
    "    \"user-key\": user_key,\n",
    "    \"Content-Type\": \"application/json\",\n",
    "    \"X-API-VERSION\": \"3.0\"\n",
    "}"
   ]
  },
  {
   "cell_type": "code",
   "execution_count": 2,
   "id": "f660b54c",
   "metadata": {},
   "outputs": [],
   "source": [
    "\n",
    "\n",
    "def create_list(list_name, list_data, description=\"\"):\n",
    "    \"\"\"\n",
    "    Create a new Factiva list.\n",
    "    Returns the created listId.\n",
    "    \"\"\"\n",
    "    url = f\"{lists_url}/create\"\n",
    "    payload = {\n",
    "        \"data\": {\n",
    "            \"attributes\": {\n",
    "                \"listName\": list_name,\n",
    "                \"listData\": list_data,\n",
    "                \"description\": description\n",
    "            }\n",
    "        }\n",
    "    }\n",
    "    resp = requests.post(url, headers=headers, json=payload)\n",
    "    resp.raise_for_status()\n",
    "    return resp.json()[\"data\"][\"attributes\"][0][\"listId\"]\n",
    "\n",
    "def get_list(list_id):\n",
    "    \"\"\"\n",
    "    Retrieve a Factiva list by its listId.\n",
    "    Returns the full list attributes dictionary.\n",
    "    \"\"\"\n",
    "    url = f\"{lists_url}/{list_id}\"\n",
    "    resp = requests.get(url, headers=headers)\n",
    "    resp.raise_for_status()\n",
    "    return resp.json()[\"data\"][\"attributes\"]\n",
    "\n",
    "def update_list(list_id, list_data, list_name=None, description=None):\n",
    "    \"\"\"\n",
    "    Update an existing Factiva list's contents.\n",
    "    Optionally update name and/or description.\n",
    "    Returns the updated list attributes.\n",
    "    \"\"\"\n",
    "    url = f\"{lists_url}/update\"\n",
    "    attrs = {\"listId\": list_id, \"listData\": list_data}\n",
    "    if list_name is not None:\n",
    "        attrs[\"listName\"] = list_name\n",
    "    if description is not None:\n",
    "        attrs[\"description\"] = description\n",
    "    payload = {\"data\": {\"attributes\": attrs}}\n",
    "    resp = requests.put(url, headers=headers, json=payload)\n",
    "    resp.raise_for_status()\n",
    "    return resp.json()[\"data\"][\"attributes\"]\n",
    "\n",
    "def delete_list(list_id):\n",
    "    \"\"\"\n",
    "    Delete a Factiva list by its listId.\n",
    "    Returns the API response attributes.\n",
    "    \"\"\"\n",
    "    url = f\"{lists_url}/{list_id}\"\n",
    "    resp = requests.delete(url, headers=headers)\n",
    "    resp.raise_for_status()\n",
    "    return resp.json()[\"data\"][\"attributes\"]\n",
    "\n",
    "def search_list_for_code(list_id, code):\n",
    "    \"\"\"\n",
    "    Check whether a given FCode exists in a list.\n",
    "    Returns True if present, False otherwise.\n",
    "    \"\"\"\n",
    "    attrs = get_list(list_id)\n",
    "    return code in attrs.get(\"listData\", [])\n"
   ]
  },
  {
   "cell_type": "code",
   "execution_count": null,
   "id": "15fd9280",
   "metadata": {},
   "outputs": [],
   "source": [
    "test_list = create_list(\"region_codes\", [\"eurz\"], \"Region codes for carveouts\")\n",
    "test_list"
   ]
  },
  {
   "cell_type": "code",
   "execution_count": 7,
   "id": "6d11686b",
   "metadata": {},
   "outputs": [
    {
     "data": {
      "text/plain": [
       "[{'listId': '7a37a1bd-231c-4e54-b95e-dc499df2f18b',\n",
       "  'listName': 'region_codes',\n",
       "  'listData': ['aust',\n",
       "   'belg',\n",
       "   'czrep',\n",
       "   'den',\n",
       "   'estnia',\n",
       "   'fin',\n",
       "   'fra',\n",
       "   'gfr',\n",
       "   'italy',\n",
       "   'latv',\n",
       "   'ire',\n",
       "   'icel',\n",
       "   'lith',\n",
       "   'lux',\n",
       "   'malta',\n",
       "   'neth',\n",
       "   'norw',\n",
       "   'pol',\n",
       "   'lario',\n",
       "   'swed',\n",
       "   'switz',\n",
       "   'uk',\n",
       "   'vien',\n",
       "   'brus',\n",
       "   'prague',\n",
       "   'copen',\n",
       "   'tallin',\n",
       "   'helsnk',\n",
       "   'paris',\n",
       "   'berlin',\n",
       "   'rome',\n",
       "   'riga',\n",
       "   'dublin',\n",
       "   'reyk',\n",
       "   'vilniu',\n",
       "   'luxci',\n",
       "   'valle',\n",
       "   'amstr',\n",
       "   'oslo',\n",
       "   'wasw',\n",
       "   'madrd',\n",
       "   'stock',\n",
       "   'bern',\n",
       "   'derry',\n",
       "   'eurz',\n",
       "   'eeurz',\n",
       "   'weurz'],\n",
       "  'listSize': 47,\n",
       "  'description': 'Region codes for carveouts'}]"
      ]
     },
     "execution_count": 7,
     "metadata": {},
     "output_type": "execute_result"
    }
   ],
   "source": [
    "regions_list = get_list(\"7a37a1bd-231c-4e54-b95e-dc499df2f18b\")\n",
    "regions_list"
   ]
  },
  {
   "cell_type": "code",
   "execution_count": 5,
   "id": "c25aa2c8",
   "metadata": {},
   "outputs": [
    {
     "data": {
      "text/plain": [
       "47"
      ]
     },
     "execution_count": 5,
     "metadata": {},
     "output_type": "execute_result"
    }
   ],
   "source": [
    "region_codes = ['AUST', 'BELG', 'CZREP','DEN', 'ESTNIA','FIN', 'FRA','GFR', 'ITALY', 'LATV', 'IRE', 'ICEL', 'LITH', 'LUX', 'MALTA', 'NETH', 'NORW', 'POL', 'LARIO', 'SWED', 'SWITZ', 'UK', 'VIEN', 'BRUS', 'PRAGUE',\n",
    "'COPEN', 'TALLIN','HELSNK', 'PARIS','BERLIN', 'ROME','RIGA', 'DUBLIN','REYK', 'VILNIU', 'LUXCI', 'VALLE', 'AMSTR', 'OSLO', 'WASW', 'MADRD', 'STOCK', 'BERN','DERRY']\n",
    "region_codes += [\"EURZ\", \"EEURZ\", \"WEURZ\"]\n",
    "len(region_codes)"
   ]
  },
  {
   "cell_type": "code",
   "execution_count": 6,
   "id": "339ab302",
   "metadata": {},
   "outputs": [],
   "source": [
    "updated_regions_list = update_list(\"7a37a1bd-231c-4e54-b95e-dc499df2f18b\", region_codes, \"Region codes for carveouts\")"
   ]
  },
  {
   "cell_type": "code",
   "execution_count": 3,
   "id": "6ab6a53b",
   "metadata": {},
   "outputs": [
    {
     "data": {
      "text/plain": [
       "[{'listId': '2ce88edb-3f5e-43c5-bf4b-48eb22624ff1',\n",
       "  'listName': 'test_industry_codes',\n",
       "  'listData': ['i8395463',\n",
       "   'iplastic',\n",
       "   'icrowfd',\n",
       "   'iadmin',\n",
       "   'isover',\n",
       "   'iinv',\n",
       "   'ipricr',\n",
       "   'ialtinv',\n",
       "   'ifmsoft',\n",
       "   'ihedge',\n",
       "   'icaslty',\n",
       "   'ichalbk',\n",
       "   'iabls',\n",
       "   'iprivhea',\n",
       "   'iinsurt',\n",
       "   'iventure',\n",
       "   'i83109',\n",
       "   'ibusdev',\n",
       "   'ipension',\n",
       "   'iibnk',\n",
       "   'iwealth',\n",
       "   'iclins',\n",
       "   'i814',\n",
       "   'i815',\n",
       "   'ibnk',\n",
       "   'igovspon',\n",
       "   'ippf',\n",
       "   'i831',\n",
       "   'irbank',\n",
       "   'i82',\n",
       "   'iresinv',\n",
       "   'iextrfu',\n",
       "   'i83102',\n",
       "   'ifinal'],\n",
       "  'listSize': 34,\n",
       "  'description': 'Industry codes for carveouts'}]"
      ]
     },
     "execution_count": 3,
     "metadata": {},
     "output_type": "execute_result"
    }
   ],
   "source": [
    "get_list(\"2ce88edb-3f5e-43c5-bf4b-48eb22624ff1\")"
   ]
  },
  {
   "cell_type": "code",
   "execution_count": 8,
   "id": "20abc7bb",
   "metadata": {},
   "outputs": [
    {
     "data": {
      "text/plain": [
       "'88be2344-9a60-4715-80e8-723c3b1338e7'"
      ]
     },
     "execution_count": 8,
     "metadata": {},
     "output_type": "execute_result"
    }
   ],
   "source": [
    "subject_list = create_list(\"subject_codes\",  ['c11','ceffic','cspin','cdiv','c182','c183','crecap','cactsh', 'c1511'], \"News Subject codes for carveouts\")\n",
    "subject_list"
   ]
  },
  {
   "cell_type": "code",
   "execution_count": null,
   "id": "e1bf3add",
   "metadata": {},
   "outputs": [],
   "source": []
  }
 ],
 "metadata": {
  "kernelspec": {
   "display_name": "venv",
   "language": "python",
   "name": "python3"
  },
  "language_info": {
   "codemirror_mode": {
    "name": "ipython",
    "version": 3
   },
   "file_extension": ".py",
   "mimetype": "text/x-python",
   "name": "python",
   "nbconvert_exporter": "python",
   "pygments_lexer": "ipython3",
   "version": "3.12.2"
  }
 },
 "nbformat": 4,
 "nbformat_minor": 5
}
