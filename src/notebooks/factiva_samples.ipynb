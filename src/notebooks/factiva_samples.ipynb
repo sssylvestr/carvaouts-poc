{
 "cells": [
  {
   "cell_type": "code",
   "execution_count": 2,
   "metadata": {},
   "outputs": [],
   "source": [
    "import requests\n",
    "import json\n",
    "import pandas as pd\n",
    "from time import sleep\n",
    "\n",
    "user_key = \"LKbI9fY6ZEPU8RcJUxQHjwKbld52WGt0\"\n",
    "\n",
    "base_url = \"https://api.dowjones.com\"\n",
    "headers = {\n",
    "    \"user-key\": user_key,\n",
    "    \"Content-Type\": \"application/json\",\n",
    "    \"X-API-VERSION\": \"3.0\"\n",
    "}\n",
    "\n",
    "def check_response(response):\n",
    "    if response.status_code in [200, 201]:\n",
    "        return response.json()\n",
    "    else:\n",
    "        print(f\"Error: {response.status_code}\")\n",
    "        print(response.text)\n",
    "        return None"
   ]
  },
  {
   "cell_type": "code",
   "execution_count": 12,
   "metadata": {},
   "outputs": [],
   "source": [
    "def create_explain(query_body):\n",
    "    \"\"\"\n",
    "    Create an explain request to check how many documents match a query\n",
    "    \"\"\"\n",
    "    url = f\"{base_url}/extractions/documents/_explain\"\n",
    "    response = requests.post(url, headers=headers, data=json.dumps(query_body))\n",
    "    return check_response(response)\n",
    "\n",
    "def check_explain_status(job_id):\n",
    "    \"\"\"\n",
    "    Check the status of an explain job\n",
    "    \"\"\"\n",
    "    url = f\"{base_url}/extractions/documents/{job_id}/_explain\"\n",
    "    response = requests.get(url, headers=headers)\n",
    "    return check_response(response)\n",
    "\n",
    "def wait_for_explain_completion(job_id, max_retries=100, sleep_time=10):\n",
    "    \"\"\"\n",
    "    Wait for an explain job to complete\n",
    "    \"\"\"\n",
    "    for i in range(max_retries):\n",
    "        status = check_explain_status(job_id)\n",
    "        if not status:\n",
    "            return None\n",
    "            \n",
    "        current_state = status['data']['attributes']['current_state']\n",
    "        print(f\"Current state: {current_state}\")\n",
    "        \n",
    "        if current_state == \"JOB_STATE_DONE\":\n",
    "            return status\n",
    "        \n",
    "        if i < max_retries - 1:\n",
    "            print(f\"Waiting {sleep_time} seconds...\")\n",
    "            sleep(sleep_time)\n",
    "    \n",
    "    print(\"Max retries reached. Job might still be running.\")\n",
    "    return None"
   ]
  },
  {
   "cell_type": "code",
   "execution_count": 36,
   "metadata": {},
   "outputs": [
    {
     "name": "stdout",
     "output_type": "stream",
     "text": [
      "\n",
      "Explain job created:\n",
      "Job ID: 006a8d45-6d1f-4bdb-9343-81b4f5111034\n",
      "Current state: JOB_STATE_RUNNING\n",
      "Waiting 10 seconds...\n",
      "Current state: JOB_STATE_RUNNING\n",
      "Waiting 10 seconds...\n",
      "Current state: JOB_STATE_RUNNING\n",
      "Waiting 10 seconds...\n",
      "Current state: JOB_STATE_RUNNING\n",
      "Waiting 10 seconds...\n",
      "Current state: JOB_STATE_RUNNING\n",
      "Waiting 10 seconds...\n",
      "Current state: JOB_STATE_RUNNING\n",
      "Waiting 10 seconds...\n",
      "Current state: JOB_STATE_RUNNING\n",
      "Waiting 10 seconds...\n",
      "Current state: JOB_STATE_RUNNING\n",
      "Waiting 10 seconds...\n",
      "Current state: JOB_STATE_RUNNING\n",
      "Waiting 10 seconds...\n",
      "Current state: JOB_STATE_RUNNING\n",
      "Waiting 10 seconds...\n",
      "Current state: JOB_STATE_RUNNING\n",
      "Waiting 10 seconds...\n",
      "Current state: JOB_STATE_RUNNING\n",
      "Waiting 10 seconds...\n",
      "Current state: JOB_STATE_RUNNING\n",
      "Waiting 10 seconds...\n",
      "Current state: JOB_STATE_RUNNING\n",
      "Waiting 10 seconds...\n",
      "Current state: JOB_STATE_RUNNING\n",
      "Waiting 10 seconds...\n",
      "Current state: JOB_STATE_RUNNING\n",
      "Waiting 10 seconds...\n",
      "Current state: JOB_STATE_RUNNING\n",
      "Waiting 10 seconds...\n",
      "Current state: JOB_STATE_RUNNING\n",
      "Waiting 10 seconds...\n",
      "Current state: JOB_STATE_RUNNING\n",
      "Waiting 10 seconds...\n",
      "Current state: JOB_STATE_RUNNING\n",
      "Waiting 10 seconds...\n",
      "Current state: JOB_STATE_RUNNING\n",
      "Waiting 10 seconds...\n",
      "Current state: JOB_STATE_RUNNING\n",
      "Waiting 10 seconds...\n",
      "Current state: JOB_STATE_RUNNING\n",
      "Waiting 10 seconds...\n",
      "Current state: JOB_STATE_RUNNING\n",
      "Waiting 10 seconds...\n",
      "Current state: JOB_STATE_DONE\n",
      "\n",
      "Number of documents matching the query: 6330004\n"
     ]
    }
   ],
   "source": [
    "industry_codes = [\n",
    "    \"i814\", \"i815\", \"i82\", \"i831\", \"iabls\", \"ialtinv\", \"ibnk\", \"ibusdev\", \"icaslty\", \n",
    "    \"ichalbk\", \"iclins\", \"icrowfd\", \"iextrfu\", \"ifinal\", \"ifmsoft\", \"igovspon\", \n",
    "    \"ihedge\", \"iibnk\", \"iinsurt\", \"iinv\", \"ipension\", \"iplastic\", \"ippf\", \"ipricr\", \n",
    "    \"iprivhea\", \"irbank\", \"iresinv\", \"isover\", \"iventure\", \"iwealth\"\n",
    "]\n",
    "\n",
    "carveout_keywords = [\n",
    "    \"portfolio\", \"strategic actions\",\n",
    "    \"review of strategic alternatives\", \"divestment\", \"divestiture\", \"divest\", \n",
    "    \"divesting\", \"disposal\", \"non-core asset\", \"focus on core assets\", \n",
    "    \"refocus on core assets\", \"reduce leverage\", \"improve liquidity\", \n",
    "    \"bonds maturing\", \"notes maturing\", \"debt maturing\", \"rationalize costs\",\n",
    "    \"restructuring program\", \"in talks to divest\", \"capital return\",\n",
    "    \"sold\", \"divested\", \"signed an agreement to sell\", \"entered into an agreement to sell\",\n",
    "    \"special dividend\",  \"simplification\",\n",
    "    \n",
    "    \"carve-out\", \"spin-off\", \"strategic review\", \"portfolio optimization\",\n",
    "    \"asset sale\", \"streamline operations\", \"exit markets\", \"discontinue operations\",\n",
    "    \"strategic disposal\", \"non-strategic assets\", \"shed assets\", \"optimize footprint\"\n",
    "]\n",
    "\n",
    "keyword_conditions = \" OR \".join([f\"body LIKE '%{keyword}%'\" for keyword in carveout_keywords])\n",
    "\n",
    "query = {\n",
    "    \"query\": {\n",
    "        \"where\": f\"language_code='en' AND publication_datetime >= '2020-01-01 00:00:00' AND ({keyword_conditions})\",\n",
    "        \"includes\": {\n",
    "            \"industry_codes\": industry_codes,\n",
    "            \"region_codes\": [\"eurz\"]\n",
    "        },\n",
    "    }\n",
    "}\n",
    "\n",
    "\n",
    "explain_result = create_explain(query)\n",
    "\n",
    "if explain_result:\n",
    "    print(\"\\nExplain job created:\")\n",
    "    print(f\"Job ID: {explain_result['data']['id']}\")\n",
    "    \n",
    "    job_id = explain_result['data']['id']\n",
    "    final_status = wait_for_explain_completion(job_id)\n",
    "    \n",
    "    if final_status and 'counts' in final_status['data']['attributes']:\n",
    "        count = final_status['data']['attributes']['counts']\n",
    "        print(f\"\\nNumber of documents matching the query: {count}\")"
   ]
  },
  {
   "cell_type": "code",
   "execution_count": 32,
   "metadata": {},
   "outputs": [],
   "source": [
    "# Get a few sample documents to review\n",
    "explain_job_id = \"108f5c9a-639d-425e-8873-fc9d7b746a7f\"\n",
    "samples_url = f\"https://api.dowjones.com/extractions/samples/{explain_job_id}?num_samples=5\"\n",
    "samples_response = requests.get(samples_url, headers=headers)\n",
    "samples = samples_response.json()"
   ]
  },
  {
   "cell_type": "code",
   "execution_count": 33,
   "metadata": {},
   "outputs": [
    {
     "data": {
      "text/plain": [
       "{'data': {'id': '108f5c9a-639d-425e-8873-fc9d7b746a7f',\n",
       "  'type': 'explain',\n",
       "  'attributes': {'counts': 5,\n",
       "   'current_state': 'JOB_STATE_DONE',\n",
       "   'sample': [{'an': 'OHFSEC0020240612ek6c0002u',\n",
       "     'company_codes': ',acptef,acptef,amzcom,amzcom,andac,andac,apcbac,apcbac,auifch,auifch,binter,eucmm,euruno,euruno,farada,farada,gognew,gognew,hpjqvv,hpjqvv,iesesp,iesesp,intth,intth,prwth,prwth,qexwvp,qexwvp,rcktig,rcktig,unchld,unpom,unpom,unwest,unwest,vubfub,vubfub,',\n",
       "     'company_codes_about': '',\n",
       "     'company_codes_occur': ',vubfub,unwest,unpom,rcktig,qexwvp,prwth,intth,iesesp,hpjqvv,gognew,farada,euruno,auifch,apcbac,andac,amzcom,acptef,',\n",
       "     'industry_codes': '',\n",
       "     'ingestion_datetime': '2024-06-12T18:30:34.000Z',\n",
       "     'modification_datetime': '2024-06-12T18:30:34.000Z',\n",
       "     'publication_datetime': '2024-06-12T00:00:00.000Z',\n",
       "     'publisher_name': 'Brownstein & Egusa',\n",
       "     'region_codes': ',castil,eecz,eurz,lamz,medz,spain,weurz,',\n",
       "     'region_of_origin': 'EEURZ EUR HUNG ',\n",
       "     'source_code': 'OHFSEC',\n",
       "     'source_name': '150sec',\n",
       "     'subject_codes': ',ccat,centrp,cenvire,cesg,csmlbs,ncat,nfact,nfcpex,',\n",
       "     'title': 'Top 15 Spanish Investors to Watch in 2024',\n",
       "     'word_count': 2615,\n",
       "     'newswires_codes': '',\n",
       "     'restrictor_codes': ',CLNTALL,CTGAIIE,EEURZ,EN,EUR,FSP2NOCO,FSP2NOIN,FSP2YESCOCOMOC,FSP2YESCOOC,FSP2YESCOORGOC,FSP2YESNS,FSP2YESPEOC,FSP2YESRE,FSPCATEGORIZER,FSPCATNS,FSPCATRE,fspFileId555849379,FSPNORMAWS0500,FSPNORMAWSMQ,FSPRBC,FSPRBC647516,FSPRBC881759,FSPRBC890316,FSPRBC890452,FSPRBCGROUP11935,FSPRBCGROUP325,FSPRBCGROUP6679,FSPRBCNS,FSPRBCNSCENTRP,FSPRBCRE,FSPRBCRECASTIL,FUTA,MPCCL,MPCDocHashFC628F7A191DB66D,MPCEnvPROD,MPCESIN,MPCESNS,MPCESRE,MPCJP,MPCKP,MPCKW,MPCRBC,MPCV1M23M0B1,OHFSEC,OHFSEC,TBIZ,TINT,TMAG,tnomci,TSCH,TTRK,TYAS,TYLD,'},\n",
       "    {'an': 'OHFSEC0020240613ek6c00001',\n",
       "     'company_codes': ',acptef,acptef,amzcom,amzcom,andac,andac,apcbac,apcbac,auifch,auifch,binter,eucmm,euruno,euruno,farada,farada,gognew,gognew,hpjqvv,hpjqvv,iesesp,iesesp,intth,intth,prwth,prwth,qexwvp,qexwvp,rcktig,rcktig,unchld,unpom,unpom,unwest,unwest,vubfub,vubfub,',\n",
       "     'company_codes_about': '',\n",
       "     'company_codes_occur': ',vubfub,unwest,unpom,rcktig,qexwvp,prwth,intth,iesesp,hpjqvv,gognew,farada,euruno,auifch,apcbac,andac,amzcom,acptef,',\n",
       "     'industry_codes': '',\n",
       "     'ingestion_datetime': '2024-06-13T18:31:36.000Z',\n",
       "     'modification_datetime': '2024-06-13T18:31:36.000Z',\n",
       "     'publication_datetime': '2024-06-12T00:00:00.000Z',\n",
       "     'publisher_name': 'Brownstein & Egusa',\n",
       "     'region_codes': ',castil,eecz,eurz,lamz,medz,spain,weurz,',\n",
       "     'region_of_origin': 'EEURZ EUR HUNG ',\n",
       "     'source_code': 'OHFSEC',\n",
       "     'source_name': '150sec',\n",
       "     'subject_codes': ',ccat,centrp,cenvire,cesg,csmlbs,ncat,nfact,nfcpex,',\n",
       "     'title': 'Top 15 Spanish Investors to Watch in 2024',\n",
       "     'word_count': 2615,\n",
       "     'newswires_codes': '',\n",
       "     'restrictor_codes': ',CLNTALL,CTGAIIE,EEURZ,EN,EUR,FSP2NOCO,FSP2NOIN,FSP2YESCOCOMOC,FSP2YESCOOC,FSP2YESCOORGOC,FSP2YESNS,FSP2YESPEOC,FSP2YESRE,FSPCATEGORIZER,FSPCATNS,FSPCATRE,fspFileId556295270,FSPNORMAWS0500,FSPNORMAWSMQ,FSPRBC,FSPRBC647516,FSPRBC881759,FSPRBC890316,FSPRBC890452,FSPRBCGROUP11935,FSPRBCGROUP325,FSPRBCGROUP6679,FSPRBCNS,FSPRBCNSCENTRP,FSPRBCRE,FSPRBCRECASTIL,FUTA,MPCCL,MPCDocHashA0B1EEB02780D7EF,MPCEnvPROD,MPCESIN,MPCESNS,MPCESRE,MPCJP,MPCKP,MPCKW,MPCRBC,MPCV1M23M0B1,OHFSEC,OHFSEC,TBIZ,TINT,TMAG,tnomci,TSCH,TTRK,TYAS,TYLD,'},\n",
       "    {'an': 'OHFSEC0020200107eg1700001',\n",
       "     'company_codes': ',takcbv,delhhg,delhhg,jpygvk,jpygvk,takcbv,takcbv,jeghl,ubrti,ubrib,',\n",
       "     'company_codes_about': ',ubrti,jeghl,takcbv,',\n",
       "     'company_codes_occur': ',takcbv,jpygvk,delhhg,',\n",
       "     'industry_codes': ',icargo,itsp,iecom,iint,itech,itnsv,',\n",
       "     'ingestion_datetime': '2020-01-07T16:32:41.000Z',\n",
       "     'modification_datetime': '2020-01-07T16:32:41.000Z',\n",
       "     'publication_datetime': '2020-01-07T00:00:00.000Z',\n",
       "     'availability_datetime': '2020-01-07T16:32:57.271Z',\n",
       "     'publisher_name': 'Argentina Reports',\n",
       "     'region_codes': ',eurz,',\n",
       "     'region_of_origin': 'EEURZ EUR HUNG ',\n",
       "     'source_code': 'OHFSEC',\n",
       "     'source_name': '150sec',\n",
       "     'subject_codes': ',centrp,ccat,',\n",
       "     'title': 'On-demand food delivery expanding across Europe',\n",
       "     'word_count': 984,\n",
       "     'newswires_codes': '',\n",
       "     'restrictor_codes': ',FSPNORMAWS0300,OHFSEC,fspFileId549815749,FUTA,CLNTALL,EEURZ,EN,EUR,TBIZ,TINT,TMAG,TSCH,TTRK,TYAS,TYLD,OHFSEC,MPCV1M15M0B1,MPCEnvPROD,MPCDocHash8B8B40A83A805E5F,FSPTHINGFINDER,FSP2YESCO,FSP2YESCOCOM,FSP2YESCOOC,FSP2YESCOCOMOC,FSPRBC,FSPRBCCO,FSPRBCCOM,FSPRBCIN,FSP2YESIN,FSPRBCNS,FSP2YESNS,FSPCATEGORIZER,FSPCATRE,FSP2YESRE,FSP2NOPEOC,FSPRBC826341,FSPRBC834865,FSPRBC876961,FSPRBC880024,MPCCL,MPCJP,MPCKW,MPCKP,MPCESRE,MPCESIN,MPCESNS,FSP2AC,'},\n",
       "    {'an': 'OHFSEC0020230809ej8900001',\n",
       "     'company_codes': ',thrmg,unchld,unchld,wuffcj,',\n",
       "     'company_codes_about': '',\n",
       "     'company_codes_occur': ',unchld,',\n",
       "     'industry_codes': '',\n",
       "     'ingestion_datetime': '2023-08-09T12:32:36.000Z',\n",
       "     'modification_datetime': '2023-08-09T12:32:36.000Z',\n",
       "     'publication_datetime': '2023-08-09T00:00:00.000Z',\n",
       "     'publisher_name': 'Brownstein & Egusa',\n",
       "     'region_codes': ',eurz,',\n",
       "     'region_of_origin': 'EEURZ EUR HUNG ',\n",
       "     'source_code': 'OHFSEC',\n",
       "     'source_name': '150sec',\n",
       "     'subject_codes': ',centrp,ghea,ccat,csmlbs,gcat,ncat,nfact,nfcpex,',\n",
       "     'title': '5 Women Led Healthtech Firms Making Strides in Europe\\xa0',\n",
       "     'word_count': 855,\n",
       "     'newswires_codes': '',\n",
       "     'restrictor_codes': ',FSPNORMAWSMQ,FSPNORMAWS0500,OHFSEC,fspFileId430607219,FUTA,CLNTALL,EEURZ,EN,EUR,TBIZ,TINT,TMAG,TSCH,TTRK,TYAS,TYLD,OHFSEC,MPCV1M23M0B1,MPCEnvPROD,MPCDocHashF3637744AFF779C2,FSP2YESCOOC,FSP2YESCOORGOC,FSPRBC,FSPRBCNS,FSP2YESNS,FSPRBCRE,FSP2YESRE,FSP2NOCO,FSP2NOIN,FSP2NOPEOC,FSPRBC820009,FSPRBC853742,FSPRBC880024,MPCCL,MPCJP,MPCKW,MPCKP,MPCESRE,MPCESIN,MPCESNS,FSP2AC,FSP2ACRBCARES,FSP2ACRBCSTD,'},\n",
       "    {'an': 'SOLRADIN20220411ei4b00105',\n",
       "     'company_codes': ',rsbnk,sg,sg,sg,',\n",
       "     'company_codes_about': ',sg,rsbnk,',\n",
       "     'company_codes_occur': ',sg,',\n",
       "     'industry_codes': ',i814,i81402,ibnk,ifinal,iibnk,',\n",
       "     'ingestion_datetime': '2022-04-11T07:02:40.000Z',\n",
       "     'modification_datetime': '2024-10-04T05:30:00.000Z',\n",
       "     'publication_datetime': '2022-04-11T07:02:00.000Z',\n",
       "     'publisher_name': 'Il Sole 24 Ore SpA',\n",
       "     'region_codes': ',asiaz,dvpcoz,eeurz,eurz,russ,',\n",
       "     'region_of_origin': 'EUR ITALY MEDZ WEURZ ',\n",
       "     'source_code': 'SOLRADIN',\n",
       "     'source_name': '24 Ore Radiocor-Newswire International Edition',\n",
       "     'subject_codes': ',c13,c18,c181,cactio,ccat,ncat,nfact,nfcpin,',\n",
       "     'title': 'SocGen ceases Russia banking, insurance activities',\n",
       "     'word_count': 243,\n",
       "     'newswires_codes': '',\n",
       "     'restrictor_codes': ',CLNTALL,CTGAIIE,EN,EUR,FSP2AC,FSP2ACRBCPRTY,FSP2ACRBCTERA,FSP2NOPEOC,FSP2YESCO,FSP2YESCOCOM,FSP2YESCOCOMOC,FSP2YESCOOC,FSP2YESIN,FSP2YESNS,FSP2YESRE,FSPCATEGORIZER,FSPCATIN,FSPCATNS,FSPCATRE,fspFileId242950735,fspFileId602892044,FSPMUCODE,FSPNORMAWS0500,FSPNORMAWSMQ,FSPRBC,FSPRBC596034,FSPRBC611290,FSPRBC621432,FSPRBC838785,FSPRBC895284,FSPRBCCO,FSPRBCCOM,FSPRBCNS,FSPRBCRE,FUT,IFINAL,IINV,ITALY,MEDZ,MPCDocHash8FEFE1DEC35DB494,MPCEnvPROD,MPCV1M23M0B1,SFSOLE,SOLRADIN,TCUWIR,TFCDLIC,tnomci,TNWR,TSCH,TTRD,TTRK,TWIR,TWWW,TYAS,TYLA,WEURZ,'}]}},\n",
       " 'links': {'self': 'https://api.dowjones.com/extractions/samples/108f5c9a-639d-425e-8873-fc9d7b746a7f'}}"
      ]
     },
     "execution_count": 33,
     "metadata": {},
     "output_type": "execute_result"
    }
   ],
   "source": [
    "samples"
   ]
  },
  {
   "cell_type": "code",
   "execution_count": 3,
   "metadata": {},
   "outputs": [],
   "source": [
    "def get_taxonomy(taxonomy_type=\"industries\", file_type=\"csv\"):\n",
    "    url = f\"{base_url}/taxonomies/{taxonomy_type}/{file_type}\"\n",
    "    response = requests.get(url, headers=headers)\n",
    "    \n",
    "    if response.status_code == 200:\n",
    "        if file_type == \"csv\":\n",
    "            from io import StringIO\n",
    "            return pd.read_csv(StringIO(response.text))\n",
    "        return response.text\n",
    "    else:\n",
    "        print(f\"Error: {response.status_code}\")\n",
    "        print(response.text)\n",
    "        return None\n",
    "\n",
    "# Get financial services industry codes\n",
    "financial_taxonomy = get_taxonomy(\"industries\", \"csv\")"
   ]
  },
  {
   "cell_type": "code",
   "execution_count": 10,
   "metadata": {},
   "outputs": [],
   "source": [
    "relevant_df.to_csv(\"/Users/sylvestrsemesko/Desktop/stuff.csv\", index=False)"
   ]
  },
  {
   "cell_type": "code",
   "execution_count": 6,
   "metadata": {},
   "outputs": [],
   "source": [
    "# Filter for financial services related terms\n",
    "financial_terms = ['bank', 'financ', 'invest', 'insur', 'asset', 'capital', \n",
    "                   'credit', 'fund', 'wealth', 'broker', 'payment']\n",
    "\n",
    "# Create a case-insensitive filter for any of these terms\n",
    "filtered_df = financial_taxonomy[financial_taxonomy['description'].str.lower().str.contains('|'.join(financial_terms), na=False)]\n"
   ]
  },
  {
   "cell_type": "code",
   "execution_count": 8,
   "metadata": {},
   "outputs": [],
   "source": [
    "irrelevant_codes = [\n",
    "    # Real Estate focused\n",
    "    'i834',\n",
    "    # Highly specialized insurance\n",
    "    'iagins', 'ipetin', 'itvlins', 'itfins', 'itci', 'imoins', 'islins', 'icatins',\n",
    "    # Non-financial services\n",
    "    'iinvest',\n",
    "    # Highly specialized financial\n",
    "    'iislam', 'imicro'\n",
    "]\n",
    "\n",
    "# Filter out the irrelevant codes\n",
    "relevant_df = filtered_df[~filtered_df['code'].isin(irrelevant_codes)]"
   ]
  },
  {
   "cell_type": "code",
   "execution_count": 9,
   "metadata": {},
   "outputs": [
    {
     "data": {
      "application/vnd.microsoft.datawrangler.viewer.v0+json": {
       "columns": [
        {
         "name": "index",
         "rawType": "int64",
         "type": "integer"
        },
        {
         "name": "code",
         "rawType": "object",
         "type": "string"
        },
        {
         "name": "description",
         "rawType": "object",
         "type": "string"
        }
       ],
       "conversionMethod": "pd.DataFrame",
       "ref": "4bb4580c-1ae2-42cb-85ab-1b50e29993fa",
       "rows": [
        [
         "398",
         "i814",
         "Banking"
        ],
        [
         "399",
         "i81401",
         "Central Banking"
        ],
        [
         "400",
         "i81402",
         "Commercial Banking"
        ],
        [
         "402",
         "i81404",
         "Digital Banking"
        ],
        [
         "403",
         "i81501",
         "Credit Types/Services"
        ],
        [
         "404",
         "i8150102",
         "Credit Unions"
        ],
        [
         "405",
         "i8150103",
         "Mortgage Banks/Real Estate Credit"
        ],
        [
         "406",
         "i8150104",
         "Sales Financing"
        ],
        [
         "408",
         "i8150106",
         "Development Banking"
        ],
        [
         "410",
         "i8150108",
         "Credit Cards"
        ],
        [
         "412",
         "i8150110",
         "Export-import Financing"
        ],
        [
         "413",
         "i81502",
         "Trusts/Funds/Financial Vehicles"
        ],
        [
         "415",
         "i8150206",
         "Investment Trusts"
        ],
        [
         "416",
         "i815020602",
         "Real Estate Investment Trusts"
        ],
        [
         "417",
         "i8150211",
         "Mutual Funds"
        ],
        [
         "418",
         "i8150214",
         "Private Pension Funds"
        ],
        [
         "419",
         "i82",
         "Insurance"
        ],
        [
         "420",
         "i82001",
         "Full-line Insurance"
        ],
        [
         "421",
         "i82002",
         "Life Insurance"
        ],
        [
         "422",
         "i82003",
         "Non-life Insurance"
        ],
        [
         "423",
         "i8200301",
         "Health/Medical Insurance"
        ],
        [
         "424",
         "i8200302",
         "Professional Indemnity Insurance"
        ],
        [
         "425",
         "i8200303",
         "Private Unemployment/Disability Insurance"
        ],
        [
         "426",
         "i8200304",
         "Buildings/Contents Insurance"
        ],
        [
         "427",
         "i8200306",
         "Title Insurance"
        ],
        [
         "428",
         "i8200314",
         "Marine Insurance"
        ],
        [
         "429",
         "i8200315",
         "Aviation Insurance"
        ],
        [
         "430",
         "i8200316",
         "Auto Insurance"
        ],
        [
         "431",
         "i8200318",
         "Reinsurance"
        ],
        [
         "432",
         "i831",
         "Financial Investment Services"
        ],
        [
         "433",
         "i83101",
         "Investment Banking"
        ],
        [
         "434",
         "i83102",
         "Security Brokering/Dealing"
        ],
        [
         "435",
         "i83104",
         "Commodity Contracts Brokering/Dealing"
        ],
        [
         "436",
         "i83105",
         "Online Security Brokering/Dealing"
        ],
        [
         "438",
         "i83107",
         "Asset Management"
        ],
        [
         "439",
         "i83108",
         "Investment Advice/Research Services"
        ],
        [
         "441",
         "i832",
         "Insurance Brokering"
        ],
        [
         "556",
         "iabls",
         "Asset Based Lending Services"
        ],
        [
         "574",
         "ialtinv",
         "Alternative Investments"
        ],
        [
         "599",
         "ibnk",
         "Banking/Credit"
        ],
        [
         "605",
         "ibusdev",
         "Business Development Companies/Venture Capital Trusts"
        ],
        [
         "610",
         "icaslty",
         "Property/Casualty Insurance"
        ],
        [
         "613",
         "ichalbk",
         "Challenger Banks"
        ],
        [
         "622",
         "iclins",
         "Corporate Liability Insurance"
        ],
        [
         "644",
         "icrowfd",
         "Crowdfunding/Fundraising Platforms"
        ],
        [
         "691",
         "iextrfu",
         "Exchange Traded Funds"
        ],
        [
         "697",
         "ifinal",
         "Financial Services"
        ],
        [
         "701",
         "ifmsoft",
         "Financial Technology"
        ],
        [
         "721",
         "igovspon",
         "Government Sponsored Health Insurance"
        ],
        [
         "727",
         "ihedge",
         "Hedge Funds"
        ]
       ],
       "shape": {
        "columns": 2,
        "rows": 65
       }
      },
      "text/html": [
       "<div>\n",
       "<style scoped>\n",
       "    .dataframe tbody tr th:only-of-type {\n",
       "        vertical-align: middle;\n",
       "    }\n",
       "\n",
       "    .dataframe tbody tr th {\n",
       "        vertical-align: top;\n",
       "    }\n",
       "\n",
       "    .dataframe thead th {\n",
       "        text-align: right;\n",
       "    }\n",
       "</style>\n",
       "<table border=\"1\" class=\"dataframe\">\n",
       "  <thead>\n",
       "    <tr style=\"text-align: right;\">\n",
       "      <th></th>\n",
       "      <th>code</th>\n",
       "      <th>description</th>\n",
       "    </tr>\n",
       "  </thead>\n",
       "  <tbody>\n",
       "    <tr>\n",
       "      <th>398</th>\n",
       "      <td>i814</td>\n",
       "      <td>Banking</td>\n",
       "    </tr>\n",
       "    <tr>\n",
       "      <th>399</th>\n",
       "      <td>i81401</td>\n",
       "      <td>Central Banking</td>\n",
       "    </tr>\n",
       "    <tr>\n",
       "      <th>400</th>\n",
       "      <td>i81402</td>\n",
       "      <td>Commercial Banking</td>\n",
       "    </tr>\n",
       "    <tr>\n",
       "      <th>402</th>\n",
       "      <td>i81404</td>\n",
       "      <td>Digital Banking</td>\n",
       "    </tr>\n",
       "    <tr>\n",
       "      <th>403</th>\n",
       "      <td>i81501</td>\n",
       "      <td>Credit Types/Services</td>\n",
       "    </tr>\n",
       "    <tr>\n",
       "      <th>...</th>\n",
       "      <td>...</td>\n",
       "      <td>...</td>\n",
       "    </tr>\n",
       "    <tr>\n",
       "      <th>864</th>\n",
       "      <td>irbank</td>\n",
       "      <td>Regional Banks</td>\n",
       "    </tr>\n",
       "    <tr>\n",
       "      <th>871</th>\n",
       "      <td>iresinv</td>\n",
       "      <td>Sustainable Investment</td>\n",
       "    </tr>\n",
       "    <tr>\n",
       "      <th>895</th>\n",
       "      <td>isover</td>\n",
       "      <td>Sovereign Wealth Fund</td>\n",
       "    </tr>\n",
       "    <tr>\n",
       "      <th>931</th>\n",
       "      <td>iventure</td>\n",
       "      <td>Venture Capital</td>\n",
       "    </tr>\n",
       "    <tr>\n",
       "      <th>939</th>\n",
       "      <td>iwealth</td>\n",
       "      <td>Private Banking/Wealth Management</td>\n",
       "    </tr>\n",
       "  </tbody>\n",
       "</table>\n",
       "<p>65 rows × 2 columns</p>\n",
       "</div>"
      ],
      "text/plain": [
       "         code                        description\n",
       "398      i814                            Banking\n",
       "399    i81401                    Central Banking\n",
       "400    i81402                 Commercial Banking\n",
       "402    i81404                    Digital Banking\n",
       "403    i81501              Credit Types/Services\n",
       "..        ...                                ...\n",
       "864    irbank                     Regional Banks\n",
       "871   iresinv             Sustainable Investment\n",
       "895    isover              Sovereign Wealth Fund\n",
       "931  iventure                    Venture Capital\n",
       "939   iwealth  Private Banking/Wealth Management\n",
       "\n",
       "[65 rows x 2 columns]"
      ]
     },
     "execution_count": 9,
     "metadata": {},
     "output_type": "execute_result"
    }
   ],
   "source": [
    "relevant_df.to"
   ]
  }
 ],
 "metadata": {
  "kernelspec": {
   "display_name": "venv",
   "language": "python",
   "name": "python3"
  },
  "language_info": {
   "codemirror_mode": {
    "name": "ipython",
    "version": 3
   },
   "file_extension": ".py",
   "mimetype": "text/x-python",
   "name": "python",
   "nbconvert_exporter": "python",
   "pygments_lexer": "ipython3",
   "version": "3.11.9"
  }
 },
 "nbformat": 4,
 "nbformat_minor": 2
}
